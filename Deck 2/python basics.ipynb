{
 "cells": [
  {
   "cell_type": "code",
   "execution_count": 6,
   "metadata": {},
   "outputs": [],
   "source": [
    "# Comments like this start with #\n",
    "# Comments are not executed together with the codes\n",
    "# Comments are meant to describe what your code does"
   ]
  },
  {
   "cell_type": "code",
   "execution_count": 69,
   "metadata": {},
   "outputs": [
    {
     "data": {
      "text/plain": [
       "4"
      ]
     },
     "execution_count": 69,
     "metadata": {},
     "output_type": "execute_result"
    }
   ],
   "source": [
    "# Operators (Slide 19)\n",
    "# Codes are generally mathematical (i.e. they perform a mathematical function) and/or with logic\n",
    "# A piece of mathematical code is like the following. \n",
    "# Executing this line with alt-enter or ctrl-enter will return a result of 2.\n",
    "1 + 1"
   ]
  },
  {
   "cell_type": "code",
   "execution_count": 76,
   "metadata": {},
   "outputs": [
    {
     "data": {
      "text/plain": [
       "1"
      ]
     },
     "execution_count": 76,
     "metadata": {},
     "output_type": "execute_result"
    }
   ],
   "source": [
    "# Like excel, all mathematical operators are available (+, -, *, /, **, %)\n",
    "# power operator is denoted as ^\n",
    "# modulo operator is denoted as % - modulo returns you the remainder of a division (e.g. 3%2 returns 1)\n",
    "3 % 2"
   ]
  },
  {
   "cell_type": "code",
   "execution_count": 77,
   "metadata": {},
   "outputs": [
    {
     "data": {
      "text/plain": [
       "True"
      ]
     },
     "execution_count": 77,
     "metadata": {},
     "output_type": "execute_result"
    }
   ],
   "source": [
    "# Note that in most programming languages (Python and R included), \n",
    "# the equal operator is ==\n",
    "# The = sign in programming languages is typically used to assign values to variables\n",
    "\n",
    "# To test if 3 is equal to 2\n",
    "3 == 2  # Returns False"
   ]
  },
  {
   "cell_type": "code",
   "execution_count": 78,
   "metadata": {},
   "outputs": [
    {
     "data": {
      "text/plain": [
       "True"
      ]
     },
     "execution_count": 78,
     "metadata": {},
     "output_type": "execute_result"
    }
   ],
   "source": [
    "# To test if 3 is equal to 3\n",
    "3 == 3  # Returns True"
   ]
  },
  {
   "cell_type": "code",
   "execution_count": 79,
   "metadata": {},
   "outputs": [
    {
     "name": "stdout",
     "output_type": "stream",
     "text": [
      "24\n",
      "56\n"
     ]
    }
   ],
   "source": [
    "# Variables (Slide 21)\n",
    "# One of the most important aspect of coding is the ability to assign a value to a variable\n",
    "# A variable is simple a name that can take any values\n",
    "# Assignment is convenient because we can simply reference the variable for its value\n",
    "# To assign a value to a name, simply use =\n",
    "apples = 24\n",
    "\n",
    "# Note that names must be a contiguous string\n",
    "# no of apples is not allowed, but no_of_apples is allowed as a name\n",
    "no_of_apples = 56\n",
    "\n",
    "# Once the value is assigned, we can call the variable name to get the value.\n",
    "print(apples)\n",
    "print(no_of_apples)"
   ]
  },
  {
   "cell_type": "code",
   "execution_count": 84,
   "metadata": {},
   "outputs": [
    {
     "name": "stdout",
     "output_type": "stream",
     "text": [
      "John\n",
      "Peter\n",
      "Peter\n",
      "Peter\n",
      "Paul\n",
      "Peter\n"
     ]
    }
   ],
   "source": [
    "# Example of assigning a variable to another variable\n",
    "my_name = 'John'\n",
    "his_name = 'Peter'\n",
    "print(my_name)  # print 'John'\n",
    "print(his_name)  # print 'Peter'\n",
    "\n",
    "my_name = his_name  # Assign the value of variable his_name to my_name\n",
    "# Note that its the value of his_name that is assigned, not the variable itself\n",
    "\n",
    "print(his_name)\n",
    "print(my_name)  # This iwill print 'John' because my_name now points to the value of his_name, which is 'Peter'.\n",
    "\n",
    "his_name = 'Paul'  # Assign a new value to his_name\n",
    "print(his_name)\n",
    "print(my_name)  # This will print \"Peter\" because my_name points to the value of 'Peter', not the variable his_name."
   ]
  },
  {
   "cell_type": "code",
   "execution_count": 86,
   "metadata": {},
   "outputs": [
    {
     "name": "stdout",
     "output_type": "stream",
     "text": [
      "My name is John, his name is Peter.\n"
     ]
    }
   ],
   "source": [
    "# String Formatting (SLide 22)\n",
    "my_name = 'John'\n",
    "his_name = 'Peter'\n",
    "\n",
    "# The general format is string.format(variable name, variable name, ...)\n",
    "# the variables in .format() will replace the {} in the string in sequence\n",
    "print('My name is {}, his name is {}.'.format(my_name, his_name))"
   ]
  },
  {
   "cell_type": "code",
   "execution_count": 89,
   "metadata": {},
   "outputs": [
    {
     "name": "stdout",
     "output_type": "stream",
     "text": [
      "19\n",
      "John has 19 apples on hand.\n"
     ]
    }
   ],
   "source": [
    "# We can dynamically change the value of the variable as per the following example\n",
    "# John has 24 apples on hand.\n",
    "apples_on_hand = 24\n",
    "\n",
    "# He gave 5 to Kimberly\n",
    "apples_on_hand = apples_on_hand - 5\n",
    "\n",
    "# How many apples does John have?\n",
    "print(apples_on_hand)\n",
    "\n",
    "# with string formatting\n",
    "print('John has {} apples on hand.'.format(apples_on_hand))"
   ]
  },
  {
   "cell_type": "code",
   "execution_count": 90,
   "metadata": {},
   "outputs": [
    {
     "name": "stdout",
     "output_type": "stream",
     "text": [
      "John has 24 apples on hand.\n"
     ]
    }
   ],
   "source": [
    "# The above code \"apples_on_hand = apples_on_hand - 5\" can seem confusing to a beginner\n",
    "# This is an example of how we can assign a new value to an existing variable\n",
    "# In python, the instructions on the right hand side of a = statement is evaluated first\n",
    "# The result is then assigned to the left hand side variable\n",
    "# Thus in the above example, apples_on_hand - 5 is evaluted first (24 - 5)\n",
    "# The result of 19 is then assigned to the same variable \"apples_on_hand\", effectively overwriting the previous value.\n",
    "\n",
    "# John further gave 10 apples to Peter\n",
    "apples_on_hand -= 10  # This is a shorthand for apples_on_hand = apples_on_hand - 10, by combining the - and = together\n",
    "\n",
    "# Paul saw John's kind act and decided to reward him with 15 apples\n",
    "apples_on_hand += 15  # This is a shorthand for apples_on_hand = apples_on_hand + 15, by combining the + and = together\n",
    "\n",
    "# How many apples does John have?\n",
    "print('John has {} apples on hand.'.format(apples_on_hand))"
   ]
  },
  {
   "cell_type": "code",
   "execution_count": 92,
   "metadata": {},
   "outputs": [
    {
     "name": "stdout",
     "output_type": "stream",
     "text": [
      "Jonathan has 18 apples.\n"
     ]
    }
   ],
   "source": [
    "# Variable assignment is integral to data solutions. A simple example:\n",
    "# John has 10 apples. Peter has twice as many apples as John, but 5 lesser than May. \n",
    "# May gave Tim 6 apples, and now May has 1 apple more than Jonathan.\n",
    "# How many apples does Jonathan have?\n",
    "\n",
    "john_apples = 10  # John has 10 apples.\n",
    "peter_apples = john_apples * 2  # Peter has twice John's apples\n",
    "may_apples = peter_apples + 5  # May has 5 more apples than Peter\n",
    "may_apples -= 6  # May gave Tim 6 apples\n",
    "jonathan_apples = may_apples - 1  # After which, Jonathan has only 1 apple lesser than May\n",
    "\n",
    "print('Jonathan has {} apples.'.format(jonathan_apples))"
   ]
  },
  {
   "cell_type": "code",
   "execution_count": 94,
   "metadata": {},
   "outputs": [
    {
     "name": "stdout",
     "output_type": "stream",
     "text": [
      "My name is Jack Hong.\n"
     ]
    }
   ],
   "source": [
    "# In the above example, we assigned a value to a variable\n",
    "# Generally, a variable can take any data, such as text\n",
    "my_name = 'Jack Hong'  # Note that texts must be in '' or \"\"\n",
    "print('My name is {}.'.format(my_name))"
   ]
  },
  {
   "cell_type": "code",
   "execution_count": 98,
   "metadata": {},
   "outputs": [
    {
     "name": "stdout",
     "output_type": "stream",
     "text": [
      "This is the first element of the list: 114.3\n",
      "This is the third element of the list: 156.8\n",
      "This is the last element of the list: -56.7\n",
      "This is the second last element of the list: 18.3\n"
     ]
    }
   ],
   "source": [
    "# Collections and subsetting (Slide 23, 24)\n",
    "# Another common data type for assignment is a collection of value such as the net profit of a company over the past 5 years.\n",
    "net_profit = [114.3, 98.7, 156.8, 18.3, -56.7]\n",
    "\n",
    "# The collection of values in square brackets [] is known as a list. There are many other types of collections.\n",
    "# If we want to extract a value from a list, we can use an index.\n",
    "# In the above list, the first element is indexed as 0, the second element as 1, the third element as 2, and so on...\n",
    "# Thus, to get the first element of the list:\n",
    "print('This is the first element of the list: {}'.format(net_profit[0]))\n",
    "\n",
    "# The third element of the list:\n",
    "print('This is the third element of the list: {}'.format(net_profit[2]))  \n",
    "# Remember the first element is index 0, not 1.\n",
    "\n",
    "# We can also extract element from the end of the list by using appending - to the index position.\n",
    "# To get the last element\n",
    "print('This is the last element of the list: {}'.format(net_profit[-1]))  \n",
    "# Note that the first element is 0, therefore counting backwards, the last element is -1.\n",
    "\n",
    "# To get the second last element\n",
    "print('This is the second last element of the list: {}'.format(net_profit[-2]))"
   ]
  },
  {
   "cell_type": "code",
   "execution_count": 21,
   "metadata": {},
   "outputs": [
    {
     "name": "stdout",
     "output_type": "stream",
     "text": [
      "2\n",
      "156.8\n"
     ]
    }
   ],
   "source": [
    "# Example: What is the net profit for 2008?\n",
    "years = [2006, 2007, 2008, 2009, 2010]\n",
    "net_profit = [114.3, 98.7, 156.8, 18.3, -56.7]\n",
    "\n",
    "# The above data format is quite common, where the associated values are identified by their index position.\n",
    "# i.e. net profit for 2006 = 114.3, net profit for 2007 = 98.7\n",
    "\n",
    "# To find out the index position of 2008, we can use the index function of a list, in the following manner\n",
    "position_of_2008 = years.index(2008)  # The return value is 2\n",
    "print(position_of_2008)\n",
    "print(net_profit[position_of_2008])"
   ]
  },
  {
   "cell_type": "code",
   "execution_count": 22,
   "metadata": {},
   "outputs": [
    {
     "name": "stdout",
     "output_type": "stream",
     "text": [
      "[114.3, 98.7]\n"
     ]
    }
   ],
   "source": [
    "# We can also extract a sub-series of values from a list by using [:]\n",
    "# Example: What is the net profit from 2006 to 2008?\n",
    "start_position = years.index(2006)\n",
    "end_position = years.index(2008)\n",
    "print(net_profit[start_position:end_position])"
   ]
  },
  {
   "cell_type": "code",
   "execution_count": 24,
   "metadata": {},
   "outputs": [
    {
     "name": "stdout",
     "output_type": "stream",
     "text": [
      "[114.3, 98.7, 156.8]\n"
     ]
    }
   ],
   "source": [
    "# Ooops, why did it return values until 2007 and not 2008?\n",
    "# This is a pythonic behaviour, [0:5] returns the elements in index 0, 1, 2, 3, and 4. Not including 5.\n",
    "# Thus, if we want the value of 2008, we need to adjust the end_position by 1 element forward\n",
    "end_position = years.index(2008) + 1\n",
    "print(net_profit[start_position:end_position])"
   ]
  },
  {
   "cell_type": "code",
   "execution_count": 25,
   "metadata": {},
   "outputs": [
    {
     "name": "stdout",
     "output_type": "stream",
     "text": [
      "['hello', 'panda']\n"
     ]
    }
   ],
   "source": [
    "# A list can contain different datatypes, it does not have to be the same\n",
    "mylist = ['hello', 'panda', 5, 7, 4.56]\n",
    "print(mylist[:2])  # if we start from index 0, we can omit it from the [:]."
   ]
  },
  {
   "cell_type": "code",
   "execution_count": 26,
   "metadata": {},
   "outputs": [],
   "source": [
    "# Another collection of values similar to list, is known as the tuple. \n",
    "# Instead of square brackets, a tuple uses round brackets.\n",
    "mytuple = ('hello', 'panda', 5, 7, 4.56)"
   ]
  },
  {
   "cell_type": "code",
   "execution_count": 27,
   "metadata": {},
   "outputs": [
    {
     "name": "stdout",
     "output_type": "stream",
     "text": [
      "['hello', 'kitty', 5, 7, 4.56]\n"
     ]
    }
   ],
   "source": [
    "# The difference between a tuple and a list lies in its mutability.\n",
    "# This means that we can replace any elements in a list, but a tuple is locked.\n",
    "\n",
    "# I want to replace 'panda' with 'kitty'\n",
    "mylist[1] = 'kitty'  # simply assign the element 'panda' within the list to 'kitty'\n",
    "print(mylist)"
   ]
  },
  {
   "cell_type": "code",
   "execution_count": 30,
   "metadata": {},
   "outputs": [
    {
     "data": {
      "text/plain": [
       "'HELLO'"
      ]
     },
     "execution_count": 30,
     "metadata": {},
     "output_type": "execute_result"
    }
   ],
   "source": [
    "# The above assignment method will seem confusing to the beginner.\n",
    "# To understand this behaviour, you need to understand that everything in python is an object.\n",
    "# An object, in coding speak, is a entity with various characteristics and functions.\n",
    "# Even a string (i.e. text) or integer (e.g. 3) in python is an object.\n",
    "\n",
    "'hello'.upper()  # upper() is a function within a string object that converts all the alphabets to uppercase.\n",
    "\n",
    "# Thus, simply writing a value such as 'hello', is recognized as an object in python"
   ]
  },
  {
   "cell_type": "code",
   "execution_count": 32,
   "metadata": {},
   "outputs": [],
   "source": [
    "# Knowing this pythonic behavior, a list is simply a collection of objects.\n",
    "# within the list: mylist = ['hello', 'panda', 5, 7, 4.56], each element is an object itself.\n",
    "# 'hello' is an object that can be referenced by mylist[0]\n",
    "# This means that mylist[0] is as good as a variable for the element in the first position of mylist\n",
    "# Thus, we can re-assign the value for this variable by identifying the element, and giving a new value.\n",
    "mylist[1] = 'kitty'"
   ]
  },
  {
   "cell_type": "code",
   "execution_count": 35,
   "metadata": {},
   "outputs": [
    {
     "ename": "TypeError",
     "evalue": "'tuple' object does not support item assignment",
     "output_type": "error",
     "traceback": [
      "\u001b[0;31m---------------------------------------------------------------------------\u001b[0m",
      "\u001b[0;31mTypeError\u001b[0m                                 Traceback (most recent call last)",
      "\u001b[0;32m<ipython-input-35-b201f3bed1be>\u001b[0m in \u001b[0;36m<module>\u001b[0;34m()\u001b[0m\n\u001b[1;32m      2\u001b[0m \u001b[0;31m# A tuple is immutable, meaning that you cannot change the value of the elements in a tuple.\u001b[0m\u001b[0;34m\u001b[0m\u001b[0;34m\u001b[0m\u001b[0m\n\u001b[1;32m      3\u001b[0m \u001b[0;31m# This creates security if we don't want to accidentally change the values of the elements in a collection.\u001b[0m\u001b[0;34m\u001b[0m\u001b[0;34m\u001b[0m\u001b[0m\n\u001b[0;32m----> 4\u001b[0;31m \u001b[0mmytuple\u001b[0m\u001b[0;34m[\u001b[0m\u001b[0;36m1\u001b[0m\u001b[0;34m]\u001b[0m \u001b[0;34m=\u001b[0m \u001b[0;34m'kitty'\u001b[0m  \u001b[0;31m# This will throw an error if you try to execute it.\u001b[0m\u001b[0;34m\u001b[0m\u001b[0m\n\u001b[0m",
      "\u001b[0;31mTypeError\u001b[0m: 'tuple' object does not support item assignment"
     ]
    }
   ],
   "source": [
    "# The ability to change the values of a collection of objects is known as mutability.\n",
    "# A tuple is immutable, meaning that you cannot change the value of the elements in a tuple.\n",
    "# This creates security if we don't want to accidentally change the values of the elements in a collection.\n",
    "mytuple[1] = 'kitty'  # This will throw an error if you try to execute it."
   ]
  },
  {
   "cell_type": "code",
   "execution_count": 36,
   "metadata": {},
   "outputs": [],
   "source": [
    "# The net profit data structure in the above example is not intuitive \n",
    "# to coders who are not exposed to working with matrices and vectors.\n",
    "\n",
    "# I repeat the \"not intuitive\" data structure below for reference:\n",
    "years = [2006, 2007, 2008, 2009, 2010]\n",
    "net_profit = [114.3, 98.7, 156.8, 18.3, -56.7]\n",
    "\n",
    "# We can create another collection of objects that looks more intuitive. \n",
    "# This collection is known as the dictionary.\n",
    "net_profit_dict = {\n",
    "    2006: 114.3,\n",
    "    2007: 98.7,\n",
    "    2008: 156.8,\n",
    "    2009: 18.3,\n",
    "    2010: -56.7\n",
    "}\n",
    "\n",
    "# A dictionary collection uses the squiggly bracket {}, and elements within it are known as key: value pairs.\n",
    "# The structure helps us associate the net profit values for each year in a much more intuitive manner."
   ]
  },
  {
   "cell_type": "code",
   "execution_count": 37,
   "metadata": {},
   "outputs": [
    {
     "data": {
      "text/plain": [
       "156.8"
      ]
     },
     "execution_count": 37,
     "metadata": {},
     "output_type": "execute_result"
    }
   ],
   "source": [
    "# The dictionary collection is not only good for intuitive associations.\n",
    "# The dictonary can return values much more quickly than a list. This is because a dictionary is indexed.\n",
    "# To get the value for 2008, we use the syntax dictionary[key]\n",
    "net_profit_dict[2008]"
   ]
  },
  {
   "cell_type": "code",
   "execution_count": 38,
   "metadata": {},
   "outputs": [
    {
     "name": "stdout",
     "output_type": "stream",
     "text": [
      "78.6\n"
     ]
    }
   ],
   "source": [
    "# To change the value for a dictionary, simply call its key and assign a new value to it\n",
    "net_profit_dict[2008] = 78.6\n",
    "print(net_profit_dict[2008])"
   ]
  },
  {
   "cell_type": "code",
   "execution_count": 39,
   "metadata": {},
   "outputs": [
    {
     "name": "stdout",
     "output_type": "stream",
     "text": [
      "{2008: 78.6, 2009: 18.3, 2010: -56.7, 2006: 114.3, 2007: 98.7}\n"
     ]
    }
   ],
   "source": [
    "# you can also print the whole dictionary to see all the values\n",
    "print(net_profit_dict)"
   ]
  },
  {
   "cell_type": "code",
   "execution_count": 40,
   "metadata": {},
   "outputs": [
    {
     "name": "stdout",
     "output_type": "stream",
     "text": [
      "{2006: 114.3, 2007: 98.7, 2008: 78.6, 2009: 18.3, 2010: -56.7, 2011: 98.4}\n"
     ]
    }
   ],
   "source": [
    "# Say, we have a new net profit figure for 2011, and we want to add it to the dictionary.\n",
    "# We simply use the syntax dictionary[new key] = value\n",
    "# Note that 2011 does not exist in the dictionary, and the following code adds the new entry to the dictionary\n",
    "net_profit_dict[2011] = 98.4\n",
    "print(net_profit_dict)"
   ]
  },
  {
   "cell_type": "code",
   "execution_count": 42,
   "metadata": {},
   "outputs": [
    {
     "name": "stdout",
     "output_type": "stream",
     "text": [
      "{'hello', 'panda'}\n"
     ]
    }
   ],
   "source": [
    "# The last important collection that we will learn in this course is the set.\n",
    "# A set is a collection of unique values\n",
    "# Any values that are repeated in a collection will not be repeated in a set\n",
    "myset = set(['hello', 'panda', 'hello', 'panda'])\n",
    "print(myset)"
   ]
  },
  {
   "cell_type": "code",
   "execution_count": 33,
   "metadata": {},
   "outputs": [],
   "source": [
    "# To add a value to the set, simply use the add() function of the set\n",
    "myset.add('kitty')"
   ]
  },
  {
   "cell_type": "code",
   "execution_count": 43,
   "metadata": {},
   "outputs": [],
   "source": [
    "# The most common use of a set is to remove duplicates.\n",
    "# Take the following list of values as an example\n",
    "dup_list = [1, 4, 5, 4, 5, 6, 6, 7, 8, 9]"
   ]
  },
  {
   "cell_type": "code",
   "execution_count": 44,
   "metadata": {},
   "outputs": [
    {
     "data": {
      "text/plain": [
       "{1, 4, 5, 6, 7, 8, 9}"
      ]
     },
     "execution_count": 44,
     "metadata": {},
     "output_type": "execute_result"
    }
   ],
   "source": [
    "# To remove all duplicated entries and keep only the unique values, I simply convert the list to a set as follows\n",
    "set(dup_list)  # All duplicated values are gone."
   ]
  },
  {
   "cell_type": "code",
   "execution_count": null,
   "metadata": {},
   "outputs": [],
   "source": [
    "# In the following section, we will learn about 3 important \n",
    "# flow control (or logic) techniques: if-else-if, for loops, and while loops"
   ]
  },
  {
   "cell_type": "code",
   "execution_count": null,
   "metadata": {},
   "outputs": [],
   "source": [
    "# This is an example of if-else statement (Slide 25)\n",
    "# In python, an if statement looks like this - if <condition>:\n",
    "# the colon (:) is used to mark the end of the if condition\n",
    "# any instructions to be executed if the condition is true must be \n",
    "# written in a block of instructions in the next line, indented with 4 spaces\n",
    "# Jupyter notebook knows about this python behavior and indents automatically after you press enter after an if statement\n",
    "\n",
    "# If the condition is false, then the block of instructions under the else statement will be executed instead\n",
    "\n",
    "# print() is known as a print statement. executing this statement simply shows on screen what is inside the parenthesis ().\n",
    "\n",
    "if 3 > 2:\n",
    "    print('Any instructions to be executed if the condition is true must be indented with 4 spaces.')\n",
    "    print('This line will be executed as well if the condition is true.')\n",
    "    print('This line and the following line will be executed as well.')\n",
    "    print('This is correct.')\n",
    "else:\n",
    "    print('This line and the following line will be executed if the condition is false.')\n",
    "    print('This is wrong.')"
   ]
  },
  {
   "cell_type": "code",
   "execution_count": 101,
   "metadata": {},
   "outputs": [
    {
     "name": "stdout",
     "output_type": "stream",
     "text": [
      "This line and the following line will be executed if the condition is false.\n"
     ]
    }
   ],
   "source": [
    "# This is an example of the condition being False\n",
    "if 3 < 2:\n",
    "    print('This line will be executed as well if the condition is true.')\n",
    "    print('This line will be executed as well.')\n",
    "else:\n",
    "    print('This line and the following line will be executed if the condition is false.')"
   ]
  },
  {
   "cell_type": "code",
   "execution_count": 99,
   "metadata": {},
   "outputs": [
    {
     "name": "stdout",
     "output_type": "stream",
     "text": [
      "This line and the following line will be executed if the condition is false.\n"
     ]
    }
   ],
   "source": [
    "# This is an example of if-else if-else statments\n",
    "if 3 == 2:\n",
    "    print('This line will be executed as well if the condition is true.')\n",
    "elif 3 == 2:\n",
    "    print('This line will be executed if both values are the same.')\n",
    "else:\n",
    "    print('This line and the following line will be executed if the condition is false.')"
   ]
  },
  {
   "cell_type": "code",
   "execution_count": 48,
   "metadata": {},
   "outputs": [
    {
     "name": "stdout",
     "output_type": "stream",
     "text": [
      "114.3\n",
      "98.7\n",
      "156.8\n",
      "18.3\n",
      "-56.7\n"
     ]
    }
   ],
   "source": [
    "# For loops (Slide 26)\n",
    "# Given the following net profits\n",
    "years = [2006, 2007, 2008, 2009, 2010]\n",
    "net_profit = [114.3, 98.7, 156.8, 18.3, -56.7]\n",
    "\n",
    "# Which years do we see a net loss?\n",
    "# The technique is to go through one element at a time, and check if that value is negative.\n",
    "# If it is, return the value\n",
    "\n",
    "# To iterate through the elements in a list, we use for loop.\n",
    "# The syntax goes: for <var name> in <list>: do something\n",
    "# What the code does is that it will process the block of instructions for each element in the list.\n",
    "\n",
    "for e in net_profit:\n",
    "    print(e)\n",
    "\n",
    "# Note that you can use any name you want for e in the above loop. \n",
    "# Its merely used as a variable reference for the current element in the list"
   ]
  },
  {
   "cell_type": "code",
   "execution_count": 49,
   "metadata": {},
   "outputs": [
    {
     "name": "stdout",
     "output_type": "stream",
     "text": [
      "-56.7\n"
     ]
    }
   ],
   "source": [
    "# To return the value of a loss year, we use an if-else function together with the for loop\n",
    "for e in net_profit: # For every element e in the list, perform the following instructions\n",
    "    if e < 0:  # Losses are negative, which is < 0\n",
    "        print(e)  # if the above condition is True, print the element\n",
    "    else:\n",
    "        continue  # if the above condition is False, continue with the iteration on the next element\n",
    "\n",
    "# Note that the else: continue part of the above code is not necessary \n",
    "# because a for loop automatically proceed to the next element \n",
    "# after all instructions have been processed for the current element."
   ]
  },
  {
   "cell_type": "code",
   "execution_count": 51,
   "metadata": {},
   "outputs": [
    {
     "name": "stdout",
     "output_type": "stream",
     "text": [
      "2010\n"
     ]
    }
   ],
   "source": [
    "# A more complex example\n",
    "# Instead of just returning the value of the loss year, I want to know which year it is.\n",
    "# There are multiple ways to do this, and I'll demonstrate 3 ways:\n",
    "\n",
    "index_pos = 0  # set a variable for index_pos (that tracks the position of the element as it goes through the loop)\n",
    "for e in net_profit:\n",
    "    if e < 0:\n",
    "        print(years[index_pos])  # Since the year and net_profit lists are aligned, we can use the position of the negative net profit value to call the position of the corresponding year\n",
    "    index_pos += 1  # increment the index_pos by 1 (corresponds to the position of the next element)"
   ]
  },
  {
   "cell_type": "code",
   "execution_count": 53,
   "metadata": {},
   "outputs": [
    {
     "name": "stdout",
     "output_type": "stream",
     "text": [
      "2010\n"
     ]
    }
   ],
   "source": [
    "# method 2\n",
    "# We are introducing 2 additional inbuilt methods here: len and range\n",
    "# range gives a list of values, incremented by 1 (default). range(5) = range(0,5) = [0, 1, 2, 3, 4]\n",
    "# len gives the number of elements in the list.\n",
    "# thus, range(len(<list>)) gives a list of values with the same number of elements as the list, starting from 0.\n",
    "# The values in range() thus corresponds to the index positions of the list.\n",
    "\n",
    "for i in range(len(net_profit)):\n",
    "    if net_profit[i] < 0:  # Note that we now need to access the element by its index position.\n",
    "        print(years[i])"
   ]
  },
  {
   "cell_type": "code",
   "execution_count": 54,
   "metadata": {},
   "outputs": [
    {
     "name": "stdout",
     "output_type": "stream",
     "text": [
      "2010\n"
     ]
    }
   ],
   "source": [
    "# method 3\n",
    "# We use the dictionary in this approach.\n",
    "net_profit_dict = {\n",
    "    2006: 114.3,\n",
    "    2007: 98.7,\n",
    "    2008: 156.8,\n",
    "    2009: 18.3,\n",
    "    2010: -56.7\n",
    "}\n",
    "\n",
    "# To iterate through the dictionary, we use the method .items().\n",
    "# dict.items() will give us a list of elements by key, values in the following lists in list format\n",
    "# [[2006, 114,3], [2007, 98.7], [2008, 156.8], ...]\n",
    "\n",
    "# if we use the for loop (for e in dict.items()), each e will be in the [year, net profit] format\n",
    "# we can then reference the year by index position 0, and net profit by index position 1\n",
    "for e in net_profit_dict.items():\n",
    "    if e[1] < 0:\n",
    "        print(e[0])"
   ]
  },
  {
   "cell_type": "code",
   "execution_count": 56,
   "metadata": {},
   "outputs": [
    {
     "name": "stdout",
     "output_type": "stream",
     "text": [
      "2014\n",
      "623\n"
     ]
    }
   ],
   "source": [
    "# Optional: there is another cleaner way for the dictionary method 3 without using index position\n",
    "# Python allows us to unpack values to multiple variables in one statement\n",
    "k, v = [2014, 623]  # k is assigned the value 2014, v is assigned the value 623\n",
    "print(k)\n",
    "print(v)"
   ]
  },
  {
   "cell_type": "code",
   "execution_count": 57,
   "metadata": {},
   "outputs": [
    {
     "name": "stdout",
     "output_type": "stream",
     "text": [
      "2010\n"
     ]
    }
   ],
   "source": [
    "# Thus, we can rewrite method 3 as:\n",
    "for k, v in net_profit_dict.items():\n",
    "    if v < 0:\n",
    "        print(k)"
   ]
  },
  {
   "cell_type": "code",
   "execution_count": 59,
   "metadata": {},
   "outputs": [
    {
     "name": "stdout",
     "output_type": "stream",
     "text": [
      "[1, 16, 25, 16, 25, 36, 36, 49, 64, 81]\n"
     ]
    }
   ],
   "source": [
    "# Another useful use-case for the for-loop is if we want to perform some operations on each element in the list\n",
    "# Take the dup list as an example\n",
    "dup_list = [1, 4, 5, 4, 5, 6, 6, 7, 8, 9]\n",
    "\n",
    "# First, we create an empty list to put the new results in\n",
    "mynewlist = []\n",
    "\n",
    "# We then iterate through each element in the list and power them by 2\n",
    "# After each operation is done, we add them to the results list using append\n",
    "for i in dup_list:\n",
    "    mynewlist.append(i**2)\n",
    "print(mynewlist)"
   ]
  },
  {
   "cell_type": "code",
   "execution_count": 60,
   "metadata": {},
   "outputs": [
    {
     "name": "stdout",
     "output_type": "stream",
     "text": [
      "[1, 16, 25, 16, 25, 36, 36, 49, 64, 81]\n"
     ]
    }
   ],
   "source": [
    "# A signature pythonic way of coding is to represent the above use-case in a method known as List comprehension\n",
    "# We do not need to first create an empty list to collect the results. The list is created on the fly in a single statement.\n",
    "# The format is <list_name> = [<operation on element> for element in <list>]\n",
    "mynewlist = [i**2 for i in dup_list]\n",
    "print(mynewlist)"
   ]
  },
  {
   "cell_type": "code",
   "execution_count": 102,
   "metadata": {},
   "outputs": [
    {
     "name": "stdout",
     "output_type": "stream",
     "text": [
      "Happy birthday to you! x0 times.\n",
      "Happy birthday to you! x1 times.\n",
      "Happy birthday to you! x2 times.\n",
      "Happy birthday to you! x3 times.\n",
      "Happy birthday to you! x4 times.\n",
      "Happy birthday to you! x5 times.\n",
      "Happy birthday to you! x6 times.\n",
      "Happy birthday to you! x7 times.\n",
      "Happy birthday to you! x8 times.\n",
      "Happy birthday to you! x9 times.\n"
     ]
    }
   ],
   "source": [
    "# While Loop (Slide 28)\n",
    "i = 0  # Set a counter, which tells the while loop when to stop\n",
    "while i < 10:  # When counter hits 9, the while loop will stop\n",
    "    print('Happy birthday to you! x{} times.'.format(i))\n",
    "    i += 1  # Adds 1 to the counter every iteration, without this, the counter will not increment and the while loop will not stop."
   ]
  },
  {
   "cell_type": "code",
   "execution_count": 61,
   "metadata": {},
   "outputs": [
    {
     "name": "stdout",
     "output_type": "stream",
     "text": [
      "['profit', 'profit', 'profit', 'profit', 'loss']\n"
     ]
    }
   ],
   "source": [
    "# The last important technique to cover is writing functions (Slide 29)\n",
    "# Suppose we want to know for each year whether its a profit or loss\n",
    "net_profit = [114.3, 98.7, 156.8, 18.3, -56.7]\n",
    "\n",
    "# We can use the following for-loop\n",
    "year_results = []  # Create an empty list to collect results.\n",
    "\n",
    "for e in net_profit:\n",
    "    if e < 0:\n",
    "        year_results.append('loss')\n",
    "    else:\n",
    "        year_results.append('profit')\n",
    "print(year_results)"
   ]
  },
  {
   "cell_type": "code",
   "execution_count": 62,
   "metadata": {},
   "outputs": [],
   "source": [
    "# We can create a custom function so as to separate the logic from the data\n",
    "# To create a function, we use the def <function name> syntax. Function name can be any name you want.\n",
    "def loss_or_profit(var):\n",
    "    if var < 0:\n",
    "        return 'loss'\n",
    "    else:\n",
    "        return 'profit'\n",
    "\n",
    "# How this function reads is as such:\n",
    "# The function's name is loss_or_profit.\n",
    "# What it does when invoked, is to take in a value. Internally the function assigns the value to the var variable (you can name it whatever you want)\n",
    "# It then applies the block of instructions (if-else) and returns the values correspondingly.\n",
    "# Note that we use return here to explicitly tell the custom function what to return as output"
   ]
  },
  {
   "cell_type": "code",
   "execution_count": 65,
   "metadata": {},
   "outputs": [
    {
     "data": {
      "text/plain": [
       "'profit'"
      ]
     },
     "execution_count": 65,
     "metadata": {},
     "output_type": "execute_result"
    }
   ],
   "source": [
    "# As an example, we use 800 and -800 to test the function.\n",
    "# The function should return 'profit' for the first value, and 'loss' for the second\n",
    "loss_or_profit(800)"
   ]
  },
  {
   "cell_type": "code",
   "execution_count": 66,
   "metadata": {},
   "outputs": [
    {
     "data": {
      "text/plain": [
       "'loss'"
      ]
     },
     "execution_count": 66,
     "metadata": {},
     "output_type": "execute_result"
    }
   ],
   "source": [
    "loss_or_profit(-800)"
   ]
  },
  {
   "cell_type": "code",
   "execution_count": 67,
   "metadata": {},
   "outputs": [
    {
     "name": "stdout",
     "output_type": "stream",
     "text": [
      "['profit', 'profit', 'profit', 'profit', 'loss']\n"
     ]
    }
   ],
   "source": [
    "# Now, we can replace the for loop with the function in a list comprehension\n",
    "net_profit = [114.3, 98.7, 156.8, 18.3, -56.7]\n",
    "\n",
    "year_results = [loss_or_profit(e) for e in net_profit]\n",
    "print(year_results)"
   ]
  }
 ],
 "metadata": {
  "kernelspec": {
   "display_name": "Python 3",
   "language": "python",
   "name": "python3"
  },
  "language_info": {
   "codemirror_mode": {
    "name": "ipython",
    "version": 3
   },
   "file_extension": ".py",
   "mimetype": "text/x-python",
   "name": "python",
   "nbconvert_exporter": "python",
   "pygments_lexer": "ipython3",
   "version": "3.5.2"
  }
 },
 "nbformat": 4,
 "nbformat_minor": 1
}
