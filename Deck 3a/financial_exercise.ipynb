{
 "cells": [
  {
   "cell_type": "code",
   "execution_count": 26,
   "metadata": {},
   "outputs": [],
   "source": [
    "import pandas as pd\n",
    "\n",
    "# Import financial data\n",
    "data = pd.read_excel('key_financials.xlsx')"
   ]
  },
  {
   "cell_type": "code",
   "execution_count": 27,
   "metadata": {},
   "outputs": [
    {
     "data": {
      "text/html": [
       "<div>\n",
       "<style scoped>\n",
       "    .dataframe tbody tr th:only-of-type {\n",
       "        vertical-align: middle;\n",
       "    }\n",
       "\n",
       "    .dataframe tbody tr th {\n",
       "        vertical-align: top;\n",
       "    }\n",
       "\n",
       "    .dataframe thead th {\n",
       "        text-align: right;\n",
       "    }\n",
       "</style>\n",
       "<table border=\"1\" class=\"dataframe\">\n",
       "  <thead>\n",
       "    <tr style=\"text-align: right;\">\n",
       "      <th></th>\n",
       "      <th>Company Name</th>\n",
       "      <th>Excel Company ID</th>\n",
       "      <th>Year</th>\n",
       "      <th>Total Revenue</th>\n",
       "      <th>Gross Profit</th>\n",
       "      <th>EBITDA</th>\n",
       "      <th>EBIT</th>\n",
       "      <th>Net Income</th>\n",
       "      <th>Cash And Equivalents</th>\n",
       "      <th>Total Cash and ST Investments</th>\n",
       "      <th>Net Property</th>\n",
       "      <th>Total Assets</th>\n",
       "      <th>Total Debt</th>\n",
       "      <th>Total Equity</th>\n",
       "      <th>Capital Expenditure</th>\n",
       "      <th>Dividends per share</th>\n",
       "    </tr>\n",
       "  </thead>\n",
       "  <tbody>\n",
       "    <tr>\n",
       "      <th>0</th>\n",
       "      <td>1010 Printing Group Limited (SEHK:1127)</td>\n",
       "      <td>IQ136804909</td>\n",
       "      <td>2006</td>\n",
       "      <td>NaN</td>\n",
       "      <td>NaN</td>\n",
       "      <td>NaN</td>\n",
       "      <td>NaN</td>\n",
       "      <td>NaN</td>\n",
       "      <td>NaN</td>\n",
       "      <td>NaN</td>\n",
       "      <td>NaN</td>\n",
       "      <td>NaN</td>\n",
       "      <td>NaN</td>\n",
       "      <td>NaN</td>\n",
       "      <td>NaN</td>\n",
       "      <td>NaN</td>\n",
       "    </tr>\n",
       "    <tr>\n",
       "      <th>1</th>\n",
       "      <td>361 Degrees International Limited (SEHK:1361)</td>\n",
       "      <td>IQ60184932</td>\n",
       "      <td>2006</td>\n",
       "      <td>NaN</td>\n",
       "      <td>NaN</td>\n",
       "      <td>NaN</td>\n",
       "      <td>NaN</td>\n",
       "      <td>NaN</td>\n",
       "      <td>2.33</td>\n",
       "      <td>7.25</td>\n",
       "      <td>3.82</td>\n",
       "      <td>53.3</td>\n",
       "      <td>8.51</td>\n",
       "      <td>14.2</td>\n",
       "      <td>0.451</td>\n",
       "      <td>0.0</td>\n",
       "    </tr>\n",
       "    <tr>\n",
       "      <th>2</th>\n",
       "      <td>3Cnergy Limited (Catalist:502)</td>\n",
       "      <td>IQ79611391</td>\n",
       "      <td>2006</td>\n",
       "      <td>50.2</td>\n",
       "      <td>12.60</td>\n",
       "      <td>4.76</td>\n",
       "      <td>3.56</td>\n",
       "      <td>3.51</td>\n",
       "      <td>NaN</td>\n",
       "      <td>NaN</td>\n",
       "      <td>NaN</td>\n",
       "      <td>NaN</td>\n",
       "      <td>NaN</td>\n",
       "      <td>NaN</td>\n",
       "      <td>NaN</td>\n",
       "      <td>NaN</td>\n",
       "    </tr>\n",
       "    <tr>\n",
       "      <th>3</th>\n",
       "      <td>3SBio Inc. (SEHK:1530)</td>\n",
       "      <td>IQ24164591</td>\n",
       "      <td>2006</td>\n",
       "      <td>64.5</td>\n",
       "      <td>14.00</td>\n",
       "      <td>11.70</td>\n",
       "      <td>11.40</td>\n",
       "      <td>8.35</td>\n",
       "      <td>4.98</td>\n",
       "      <td>4.98</td>\n",
       "      <td>8.47</td>\n",
       "      <td>28.0</td>\n",
       "      <td>8.61</td>\n",
       "      <td>14.5</td>\n",
       "      <td>0.525</td>\n",
       "      <td>0.0</td>\n",
       "    </tr>\n",
       "    <tr>\n",
       "      <th>4</th>\n",
       "      <td>800 Super Holdings Limited (Catalist:5TG)</td>\n",
       "      <td>IQ137292017</td>\n",
       "      <td>2006</td>\n",
       "      <td>19.1</td>\n",
       "      <td>3.45</td>\n",
       "      <td>4.24</td>\n",
       "      <td>2.22</td>\n",
       "      <td>1.28</td>\n",
       "      <td>NaN</td>\n",
       "      <td>NaN</td>\n",
       "      <td>NaN</td>\n",
       "      <td>NaN</td>\n",
       "      <td>NaN</td>\n",
       "      <td>NaN</td>\n",
       "      <td>NaN</td>\n",
       "      <td>NaN</td>\n",
       "    </tr>\n",
       "  </tbody>\n",
       "</table>\n",
       "</div>"
      ],
      "text/plain": [
       "                                    Company Name Excel Company ID  Year  \\\n",
       "0        1010 Printing Group Limited (SEHK:1127)      IQ136804909  2006   \n",
       "1  361 Degrees International Limited (SEHK:1361)       IQ60184932  2006   \n",
       "2                 3Cnergy Limited (Catalist:502)       IQ79611391  2006   \n",
       "3                         3SBio Inc. (SEHK:1530)       IQ24164591  2006   \n",
       "4      800 Super Holdings Limited (Catalist:5TG)      IQ137292017  2006   \n",
       "\n",
       "   Total Revenue  Gross Profit  EBITDA   EBIT  Net Income  \\\n",
       "0            NaN           NaN     NaN    NaN         NaN   \n",
       "1            NaN           NaN     NaN    NaN         NaN   \n",
       "2           50.2         12.60    4.76   3.56        3.51   \n",
       "3           64.5         14.00   11.70  11.40        8.35   \n",
       "4           19.1          3.45    4.24   2.22        1.28   \n",
       "\n",
       "   Cash And Equivalents  Total Cash and ST Investments  Net Property  \\\n",
       "0                   NaN                            NaN           NaN   \n",
       "1                  2.33                           7.25          3.82   \n",
       "2                   NaN                            NaN           NaN   \n",
       "3                  4.98                           4.98          8.47   \n",
       "4                   NaN                            NaN           NaN   \n",
       "\n",
       "   Total Assets  Total Debt  Total Equity  Capital Expenditure  \\\n",
       "0           NaN         NaN           NaN                  NaN   \n",
       "1          53.3        8.51          14.2                0.451   \n",
       "2           NaN         NaN           NaN                  NaN   \n",
       "3          28.0        8.61          14.5                0.525   \n",
       "4           NaN         NaN           NaN                  NaN   \n",
       "\n",
       "   Dividends per share  \n",
       "0                  NaN  \n",
       "1                  0.0  \n",
       "2                  NaN  \n",
       "3                  0.0  \n",
       "4                  NaN  "
      ]
     },
     "execution_count": 27,
     "metadata": {},
     "output_type": "execute_result"
    }
   ],
   "source": [
    "# Perform inspection of dataset\n",
    "data.head()"
   ]
  },
  {
   "cell_type": "code",
   "execution_count": 15,
   "metadata": {},
   "outputs": [],
   "source": [
    "# Perform descriptive statistics on dataset\n",
    "\n",
    "# Write your pandas code here"
   ]
  },
  {
   "cell_type": "code",
   "execution_count": 17,
   "metadata": {},
   "outputs": [],
   "source": [
    "# We want to perform some prediction modeling on the dataset\n",
    "# However, we still need to do some data munging\n",
    "\n",
    "# First of all, Revenue, GP, EBITDA, EBIT, and Net Income are highly correlated. Thus there will not be an information gain\n",
    "# if we regress any of these variables against the rest.\n",
    "# The typical solution is to choose just 1 of them as the outcome variable\n",
    "# For this exercise, use EBITDA as the outcome variable\n",
    "\n",
    "# Write the pandas code to subset the dataframe, dropping total revenue, gross profit, ebit, net income"
   ]
  },
  {
   "cell_type": "code",
   "execution_count": 34,
   "metadata": {},
   "outputs": [],
   "source": [
    "# 1 important metric in finance is debt-equity ratio (you will learn about this in Corporate Finance)\n",
    "# The formula for debt-equity ratio si Total Debt divided by Total Equity\n",
    "\n",
    "# Create a new column called DE ratio filled by these values\n",
    "# pandas and numpy allow column to column operations (the operation is carried out elementwise)\n",
    "data['DE ratio'] = data['Total Debt']/data['Total Equity']\n",
    "\n",
    "# Create a new column called ST Investments (short term investments), you can get this value by deducting\n",
    "# Cash and Equivalents from Total Cash and ST Investments\n",
    "\n",
    "# Write your pandas code here"
   ]
  },
  {
   "cell_type": "code",
   "execution_count": null,
   "metadata": {},
   "outputs": [],
   "source": [
    "# since DE ratio is constructed from Total Debt and Total Equity, these 3 values are perfectly correlated\n",
    "# As such, there is no information gain from having all 3 variables in the predictive model\n",
    "\n",
    "# Write the pandas code to drop Total Debt and Total Equity, also drop Total Cash and ST Investments"
   ]
  },
  {
   "cell_type": "code",
   "execution_count": 31,
   "metadata": {},
   "outputs": [],
   "source": [
    "# Year is a categorical variable, but cannot be ranked since there is \n",
    "# no rationale why 2018, although numerically larger than 2017, should be positively associated with e.g. revenue\n",
    "# Thus we need to convert Year variable into dummy variables\n",
    "\n",
    "# Write your pandas code for this step"
   ]
  },
  {
   "cell_type": "code",
   "execution_count": 33,
   "metadata": {},
   "outputs": [],
   "source": [
    "# An issue with statistical models is that observations (rows) with empty values cannot be used\n",
    "# To ensure that the resulting dataset has observations without missing values for any features, \n",
    "# we use the dropna function in pandas - This will delete all the rows with at least 1 missing value\n",
    "data1 = data.dropna()\n",
    "data1"
   ]
  },
  {
   "cell_type": "code",
   "execution_count": null,
   "metadata": {},
   "outputs": [],
   "source": [
    "# From here, we want to test a couple of predictive modeling starting from statistical models\n",
    "# But lets follow best practices and create a training and test split\n",
    "\n",
    "# Write your sklearn code for this step"
   ]
  },
  {
   "cell_type": "code",
   "execution_count": 35,
   "metadata": {},
   "outputs": [],
   "source": [
    "# Next, perform a linear regression EBITDA = Cash And Equivalents + ST Investments + Net Property + Total Assets + DE ratio + Capital Expenditure + Dividends per share + year_dummies\n",
    "\n",
    "# Write your sklearn code here and fit the model"
   ]
  },
  {
   "cell_type": "code",
   "execution_count": 36,
   "metadata": {},
   "outputs": [],
   "source": [
    "# Train your training set and use it to predict your test set\n",
    "\n",
    "# Write your sklearn code here"
   ]
  },
  {
   "cell_type": "code",
   "execution_count": 37,
   "metadata": {},
   "outputs": [],
   "source": [
    "# Perform accuracy scoring\n",
    "\n",
    "# Write your sklearn code here "
   ]
  },
  {
   "cell_type": "code",
   "execution_count": 38,
   "metadata": {},
   "outputs": [],
   "source": [
    "# Try logistic regression, does the accuracy improve?\n",
    "\n",
    "# Write your codes here"
   ]
  },
  {
   "cell_type": "code",
   "execution_count": 39,
   "metadata": {},
   "outputs": [],
   "source": [
    "# Follow the pipeline approach and perform the following models: SVM, Decision Trees, Random Forest\n",
    "\n",
    "# Write your SVM code here and check the accuracy"
   ]
  },
  {
   "cell_type": "code",
   "execution_count": 40,
   "metadata": {},
   "outputs": [],
   "source": [
    "# Write your Decision Trees code here and check the accuracy"
   ]
  },
  {
   "cell_type": "code",
   "execution_count": 41,
   "metadata": {},
   "outputs": [],
   "source": [
    "# Write your Random Forest code here and check the accuracy\n",
    "# Note: if the model takes too long to finish (> 3min), click stop in the toolbar above and reduce the number of iterations\n"
   ]
  },
  {
   "cell_type": "code",
   "execution_count": 42,
   "metadata": {},
   "outputs": [],
   "source": [
    "# Take the Random Forest model and perform hyperparameter tuning (grid search) + performance evaluation (cross-validation)\n",
    "# Note: if the model takes too long to finish (> 3min), click stop in the toolbar above and reduce the number of grid search parameters\n",
    "\n",
    "# Write your code here. Does your accuracy improve?"
   ]
  },
  {
   "cell_type": "code",
   "execution_count": null,
   "metadata": {},
   "outputs": [],
   "source": [
    "# Extract the important features for the random forest model. Can you think of economic rationales why these features influence ebitda?\n",
    "\n",
    "# Write your code here"
   ]
  }
 ],
 "metadata": {
  "kernelspec": {
   "display_name": "Python 3",
   "language": "python",
   "name": "python3"
  },
  "language_info": {
   "codemirror_mode": {
    "name": "ipython",
    "version": 3
   },
   "file_extension": ".py",
   "mimetype": "text/x-python",
   "name": "python",
   "nbconvert_exporter": "python",
   "pygments_lexer": "ipython3",
   "version": "3.5.2"
  }
 },
 "nbformat": 4,
 "nbformat_minor": 2
}
