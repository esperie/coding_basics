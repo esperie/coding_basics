{
 "cells": [
  {
   "cell_type": "code",
   "execution_count": 7,
   "metadata": {},
   "outputs": [
    {
     "data": {
      "text/html": [
       "2"
      ],
      "text/latex": [
       "2"
      ],
      "text/markdown": [
       "2"
      ],
      "text/plain": [
       "[1] 2"
      ]
     },
     "metadata": {},
     "output_type": "display_data"
    }
   ],
   "source": [
    "# Operators (Slide 34)\n",
    "1 + 1"
   ]
  },
  {
   "cell_type": "code",
   "execution_count": 8,
   "metadata": {},
   "outputs": [
    {
     "data": {
      "text/html": [
       "0"
      ],
      "text/latex": [
       "0"
      ],
      "text/markdown": [
       "0"
      ],
      "text/plain": [
       "[1] 0"
      ]
     },
     "metadata": {},
     "output_type": "display_data"
    },
    {
     "data": {
      "text/html": [
       "1"
      ],
      "text/latex": [
       "1"
      ],
      "text/markdown": [
       "1"
      ],
      "text/plain": [
       "[1] 1"
      ]
     },
     "metadata": {},
     "output_type": "display_data"
    }
   ],
   "source": [
    "2%%2\n",
    "3%%2"
   ]
  },
  {
   "cell_type": "code",
   "execution_count": 2,
   "metadata": {},
   "outputs": [
    {
     "name": "stdout",
     "output_type": "stream",
     "text": [
      "[1] 4.522\n"
     ]
    }
   ],
   "source": [
    "# Variables (Slide 35)\n",
    "no_of_apples = 15\n",
    "price_of_basket = 67.83\n",
    "\n",
    "print(price_of_basket/no_of_apples)"
   ]
  },
  {
   "cell_type": "code",
   "execution_count": 3,
   "metadata": {},
   "outputs": [
    {
     "name": "stdout",
     "output_type": "stream",
     "text": [
      "[1] \"The price of the apple is too damn high!\"\n"
     ]
    }
   ],
   "source": [
    "# Model/Equation with if-else statements (Slide 36)\n",
    "price_per_apple = price_of_basket/no_of_apples\n",
    "\n",
    "# simple if-elseif-else statement\n",
    "if (price_per_apple > 3){\n",
    "  comment = \"The price of the apple is too damn high!\"\n",
    "} else if (price_per_apple > 2 & price_per_apple <=3){\n",
    "  comment = \"This is fair.\"\n",
    "} else if (price_per_apple > 1 & price_per_apple <=2){\n",
    "  comment = \"Wah, cheap. sibe wu hua!\"\n",
    "} else {\n",
    "  comment = \"Chiong ah, grab everything!\"\n",
    "}\n",
    "\n",
    "print(comment)"
   ]
  },
  {
   "cell_type": "code",
   "execution_count": 4,
   "metadata": {},
   "outputs": [
    {
     "data": {
      "text/html": [
       "153"
      ],
      "text/latex": [
       "153"
      ],
      "text/markdown": [
       "153"
      ],
      "text/plain": [
       "[1] 153"
      ]
     },
     "metadata": {},
     "output_type": "display_data"
    }
   ],
   "source": [
    "# Creating a list/array (Slide 38)\n",
    "height = c(164, 176, 153, 145, 183)\n",
    "height[3]  # return the value of the 3rd element in the list"
   ]
  },
  {
   "cell_type": "code",
   "execution_count": 9,
   "metadata": {},
   "outputs": [
    {
     "data": {
      "text/html": [
       "<ol class=list-inline>\n",
       "\t<li>176</li>\n",
       "\t<li>153</li>\n",
       "\t<li>145</li>\n",
       "</ol>\n"
      ],
      "text/latex": [
       "\\begin{enumerate*}\n",
       "\\item 176\n",
       "\\item 153\n",
       "\\item 145\n",
       "\\end{enumerate*}\n"
      ],
      "text/markdown": [
       "1. 176\n",
       "2. 153\n",
       "3. 145\n",
       "\n",
       "\n"
      ],
      "text/plain": [
       "[1] 176 153 145"
      ]
     },
     "metadata": {},
     "output_type": "display_data"
    }
   ],
   "source": [
    "height[2:4]  # return the slice from element 2 to 4"
   ]
  },
  {
   "cell_type": "code",
   "execution_count": 28,
   "metadata": {},
   "outputs": [
    {
     "data": {
      "text/html": [
       "<ol class=list-inline>\n",
       "\t<li>176</li>\n",
       "\t<li>145</li>\n",
       "</ol>\n"
      ],
      "text/latex": [
       "\\begin{enumerate*}\n",
       "\\item 176\n",
       "\\item 145\n",
       "\\end{enumerate*}\n"
      ],
      "text/markdown": [
       "1. 176\n",
       "2. 145\n",
       "\n",
       "\n"
      ],
      "text/plain": [
       "[1] 176 145"
      ]
     },
     "metadata": {},
     "output_type": "display_data"
    }
   ],
   "source": [
    "# Returning elements using a TRUE/FALSE array\n",
    "# I want to get the values of the second and fourth element\n",
    "# To do that, I create an array with the 2nd and 4th element as TRUE, and other elements as FALSE\n",
    "subset_mask = c(FALSE, TRUE, FALSE, TRUE, FALSE)\n",
    "\n",
    "height[subset_mask]"
   ]
  },
  {
   "cell_type": "code",
   "execution_count": 10,
   "metadata": {},
   "outputs": [
    {
     "data": {
      "text/html": [
       "8"
      ],
      "text/latex": [
       "8"
      ],
      "text/markdown": [
       "8"
      ],
      "text/plain": [
       "[1] 8"
      ]
     },
     "metadata": {},
     "output_type": "display_data"
    }
   ],
   "source": [
    "# Inbuilt functions (Slide 39)\n",
    "myValues = c(3, 4, 5, 6, 7, 8)\n",
    "\n",
    "max(myValues)"
   ]
  },
  {
   "cell_type": "code",
   "execution_count": 11,
   "metadata": {},
   "outputs": [],
   "source": [
    "# You can check any R modules/functions using ?name\n",
    "?max"
   ]
  },
  {
   "cell_type": "code",
   "execution_count": 22,
   "metadata": {},
   "outputs": [
    {
     "data": {
      "text/html": [
       "<table>\n",
       "<thead><tr><th></th><th scope=col>A</th><th scope=col>B</th><th scope=col>C</th><th scope=col>D</th><th scope=col>E</th><th scope=col>F</th></tr></thead>\n",
       "<tbody>\n",
       "\t<tr><th scope=row>admit_male</th><td>512</td><td>353</td><td>120</td><td>138</td><td>53 </td><td>22 </td></tr>\n",
       "\t<tr><th scope=row>admit_female</th><td> 89</td><td> 17</td><td>202</td><td>131</td><td>94 </td><td>24 </td></tr>\n",
       "</tbody>\n",
       "</table>\n"
      ],
      "text/latex": [
       "\\begin{tabular}{r|llllll}\n",
       "  & A & B & C & D & E & F\\\\\n",
       "\\hline\n",
       "\tadmit\\_male & 512 & 353 & 120 & 138 & 53  & 22 \\\\\n",
       "\tadmit\\_female &  89 &  17 & 202 & 131 & 94  & 24 \\\\\n",
       "\\end{tabular}\n"
      ],
      "text/markdown": [
       "\n",
       "| <!--/--> | A | B | C | D | E | F | \n",
       "|---|---|\n",
       "| admit_male | 512 | 353 | 120 | 138 | 53  | 22  | \n",
       "| admit_female |  89 |  17 | 202 | 131 | 94  | 24  | \n",
       "\n",
       "\n"
      ],
      "text/plain": [
       "             A   B   C   D   E  F \n",
       "admit_male   512 353 120 138 53 22\n",
       "admit_female  89  17 202 131 94 24"
      ]
     },
     "metadata": {},
     "output_type": "display_data"
    }
   ],
   "source": [
    "# Create dataframe called admit (Slide 40 - 42)\n",
    "admit = data.frame(c(512, 89), c(353, 17), c(120, 202), c(138, 131), c(53, 94), c(22, 24), \n",
    "                row.names = c('admit_male', 'admit_female'))\n",
    "colnames(admit) = c('A', 'B', 'C', 'D', 'E', 'F')\n",
    "\n",
    "df"
   ]
  },
  {
   "cell_type": "code",
   "execution_count": 23,
   "metadata": {},
   "outputs": [
    {
     "data": {
      "text/html": [
       "<table>\n",
       "<thead><tr><th></th><th scope=col>D</th><th scope=col>E</th></tr></thead>\n",
       "<tbody>\n",
       "\t<tr><th scope=row>admit_male</th><td>138</td><td>53 </td></tr>\n",
       "</tbody>\n",
       "</table>\n"
      ],
      "text/latex": [
       "\\begin{tabular}{r|ll}\n",
       "  & D & E\\\\\n",
       "\\hline\n",
       "\tadmit\\_male & 138 & 53 \\\\\n",
       "\\end{tabular}\n"
      ],
      "text/markdown": [
       "\n",
       "| <!--/--> | D | E | \n",
       "|---|\n",
       "| admit_male | 138 | 53  | \n",
       "\n",
       "\n"
      ],
      "text/plain": [
       "           D   E \n",
       "admit_male 138 53"
      ]
     },
     "metadata": {},
     "output_type": "display_data"
    }
   ],
   "source": [
    "# Subsetting Dataframe\n",
    "admit[1:1, 4:5] # Returns first row with columns D and E"
   ]
  },
  {
   "cell_type": "code",
   "execution_count": 27,
   "metadata": {},
   "outputs": [
    {
     "data": {
      "text/html": [
       "<ol class=list-inline>\n",
       "\t<li>512</li>\n",
       "\t<li>89</li>\n",
       "</ol>\n"
      ],
      "text/latex": [
       "\\begin{enumerate*}\n",
       "\\item 512\n",
       "\\item 89\n",
       "\\end{enumerate*}\n"
      ],
      "text/markdown": [
       "1. 512\n",
       "2. 89\n",
       "\n",
       "\n"
      ],
      "text/plain": [
       "[1] 512  89"
      ]
     },
     "metadata": {},
     "output_type": "display_data"
    },
    {
     "data": {
      "text/html": [
       "<table>\n",
       "<thead><tr><th></th><th scope=col>A</th></tr></thead>\n",
       "<tbody>\n",
       "\t<tr><th scope=row>admit_male</th><td>512</td></tr>\n",
       "\t<tr><th scope=row>admit_female</th><td> 89</td></tr>\n",
       "</tbody>\n",
       "</table>\n"
      ],
      "text/latex": [
       "\\begin{tabular}{r|l}\n",
       "  & A\\\\\n",
       "\\hline\n",
       "\tadmit\\_male & 512\\\\\n",
       "\tadmit\\_female &  89\\\\\n",
       "\\end{tabular}\n"
      ],
      "text/markdown": [
       "\n",
       "| <!--/--> | A | \n",
       "|---|---|\n",
       "| admit_male | 512 | \n",
       "| admit_female |  89 | \n",
       "\n",
       "\n"
      ],
      "text/plain": [
       "             A  \n",
       "admit_male   512\n",
       "admit_female  89"
      ]
     },
     "metadata": {},
     "output_type": "display_data"
    }
   ],
   "source": [
    "# Idiosyncracies in R Dataframe\n",
    "# [] subsetting returns a dataframe, [[]] returns an array\n",
    "admit$A  # extracts first column in an array format\n",
    "admit['A']  # extracts first column in a dataframe format\n",
    "admit[['A']]  # extracts first column in an array format\n",
    "\n",
    "# Subsetting Dataframe using TRUE/FALSE\n",
    "# DataFrame subsetting with TRUE/FALSE array doesn't work, requires a TRUE/FALSE dataframe"
   ]
  },
  {
   "cell_type": "code",
   "execution_count": 29,
   "metadata": {},
   "outputs": [
    {
     "name": "stdout",
     "output_type": "stream",
     "text": [
      "[1] \"2 is not a factor of 2.\"\n",
      "[1] \"4 is not a factor of 2.\"\n",
      "[1] \"6 is not a factor of 2.\"\n",
      "[1] \"8 is not a factor of 2.\"\n"
     ]
    }
   ],
   "source": [
    "# Flow control - For Loop (Slide 43)\n",
    "list = c(2, 3, 4, 5, 6, 7, 8)\n",
    "\n",
    "for (n in list){\n",
    "    if (n%%2 != 0){\n",
    "        next\n",
    "    } else {\n",
    "        print(paste(n, \"is not a factor of 2.\"))\n",
    "    }\n",
    "}"
   ]
  },
  {
   "cell_type": "code",
   "execution_count": null,
   "metadata": {},
   "outputs": [],
   "source": [
    "# Flow control - While Loop (Slide 46)\n",
    "i = 0\n",
    "while (i < 50){\n",
    "    i = i + 1\n",
    "}"
   ]
  },
  {
   "cell_type": "code",
   "execution_count": 30,
   "metadata": {},
   "outputs": [],
   "source": [
    "# Creating functions (Slide 49)\n",
    "diff = function(start, end){\n",
    "    difference = end - start\n",
    "    return(difference)\n",
    "}"
   ]
  },
  {
   "cell_type": "code",
   "execution_count": 31,
   "metadata": {},
   "outputs": [
    {
     "data": {
      "text/html": [
       "4"
      ],
      "text/latex": [
       "4"
      ],
      "text/markdown": [
       "4"
      ],
      "text/plain": [
       "[1] 4"
      ]
     },
     "metadata": {},
     "output_type": "display_data"
    }
   ],
   "source": [
    "# Test the output of the function diff\n",
    "diff(4, 8)  # returns 4"
   ]
  },
  {
   "cell_type": "code",
   "execution_count": 32,
   "metadata": {},
   "outputs": [],
   "source": [
    "# Creating functions II (SLide 51)\n",
    "get_max = function(list_of_values, scalar){\n",
    "    largest_value = 0\n",
    "    for (v in list_of_values){\n",
    "        if (v > largest_value){\n",
    "            largest_value = v\n",
    "        }\n",
    "    }\n",
    "    return(largest_value*scalar)\n",
    "}"
   ]
  },
  {
   "cell_type": "code",
   "execution_count": 33,
   "metadata": {},
   "outputs": [
    {
     "data": {
      "text/html": [
       "20"
      ],
      "text/latex": [
       "20"
      ],
      "text/markdown": [
       "20"
      ],
      "text/plain": [
       "[1] 20"
      ]
     },
     "metadata": {},
     "output_type": "display_data"
    }
   ],
   "source": [
    "# Test the funciton get_max\n",
    "get_max(c(2, 4, 6, 8, 10), 2)  # should return 20"
   ]
  }
 ],
 "metadata": {
  "kernelspec": {
   "display_name": "R",
   "language": "R",
   "name": "ir"
  },
  "language_info": {
   "codemirror_mode": "r",
   "file_extension": ".r",
   "mimetype": "text/x-r-source",
   "name": "R",
   "pygments_lexer": "r",
   "version": "3.4.4"
  }
 },
 "nbformat": 4,
 "nbformat_minor": 2
}
