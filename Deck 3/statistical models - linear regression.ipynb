{
 "cells": [
  {
   "cell_type": "code",
   "execution_count": 4,
   "metadata": {},
   "outputs": [],
   "source": [
    "# R has a set of ready datasets for us to play with\n",
    "# To call these datasets, load the datasets library\n",
    "library(datasets)"
   ]
  },
  {
   "cell_type": "code",
   "execution_count": 70,
   "metadata": {},
   "outputs": [],
   "source": [
    "# The psych package is a very useful 3rd party tool for descriptive statistics\n",
    "library(psych)"
   ]
  },
  {
   "cell_type": "code",
   "execution_count": 73,
   "metadata": {},
   "outputs": [
    {
     "name": "stderr",
     "output_type": "stream",
     "text": [
      "Loading required package: carData\n",
      "\n",
      "Attaching package: ‘car’\n",
      "\n",
      "The following object is masked from ‘package:psych’:\n",
      "\n",
      "    logit\n",
      "\n"
     ]
    }
   ],
   "source": [
    "# car is another useful package\n",
    "library(car)"
   ]
  },
  {
   "cell_type": "code",
   "execution_count": 10,
   "metadata": {},
   "outputs": [
    {
     "data": {},
     "metadata": {},
     "output_type": "display_data"
    }
   ],
   "source": [
    "# The following code allows us to browse the datasets in the library\n",
    "library(help = \"datasets\")"
   ]
  },
  {
   "cell_type": "code",
   "execution_count": 17,
   "metadata": {},
   "outputs": [],
   "source": [
    "# To check what the dataset faithful is\n",
    "?faithful"
   ]
  },
  {
   "cell_type": "code",
   "execution_count": 7,
   "metadata": {},
   "outputs": [],
   "source": [
    "# The following code loads the faithful dataset into our R program\n",
    "data(faithful)"
   ]
  },
  {
   "cell_type": "code",
   "execution_count": 11,
   "metadata": {},
   "outputs": [
    {
     "name": "stdout",
     "output_type": "stream",
     "text": [
      "'data.frame':\t272 obs. of  2 variables:\n",
      " $ eruptions: num  3.6 1.8 3.33 2.28 4.53 ...\n",
      " $ waiting  : num  79 54 74 62 85 55 88 85 51 85 ...\n"
     ]
    }
   ],
   "source": [
    "# Inspect the structure of the dataset\n",
    "str(faithful)  # Shows that there are 2 variables (numerical): eruptions and waiting"
   ]
  },
  {
   "cell_type": "code",
   "execution_count": 12,
   "metadata": {},
   "outputs": [
    {
     "data": {
      "text/html": [
       "<table>\n",
       "<thead><tr><th scope=col>eruptions</th><th scope=col>waiting</th></tr></thead>\n",
       "<tbody>\n",
       "\t<tr><td>3.600</td><td>79   </td></tr>\n",
       "\t<tr><td>1.800</td><td>54   </td></tr>\n",
       "\t<tr><td>3.333</td><td>74   </td></tr>\n",
       "\t<tr><td>2.283</td><td>62   </td></tr>\n",
       "\t<tr><td>4.533</td><td>85   </td></tr>\n",
       "\t<tr><td>2.883</td><td>55   </td></tr>\n",
       "\t<tr><td>4.700</td><td>88   </td></tr>\n",
       "\t<tr><td>3.600</td><td>85   </td></tr>\n",
       "\t<tr><td>1.950</td><td>51   </td></tr>\n",
       "\t<tr><td>4.350</td><td>85   </td></tr>\n",
       "\t<tr><td>1.833</td><td>54   </td></tr>\n",
       "\t<tr><td>3.917</td><td>84   </td></tr>\n",
       "\t<tr><td>4.200</td><td>78   </td></tr>\n",
       "\t<tr><td>1.750</td><td>47   </td></tr>\n",
       "\t<tr><td>4.700</td><td>83   </td></tr>\n",
       "\t<tr><td>2.167</td><td>52   </td></tr>\n",
       "\t<tr><td>1.750</td><td>62   </td></tr>\n",
       "\t<tr><td>4.800</td><td>84   </td></tr>\n",
       "\t<tr><td>1.600</td><td>52   </td></tr>\n",
       "\t<tr><td>4.250</td><td>79   </td></tr>\n",
       "\t<tr><td>1.800</td><td>51   </td></tr>\n",
       "\t<tr><td>1.750</td><td>47   </td></tr>\n",
       "\t<tr><td>3.450</td><td>78   </td></tr>\n",
       "\t<tr><td>3.067</td><td>69   </td></tr>\n",
       "\t<tr><td>4.533</td><td>74   </td></tr>\n",
       "\t<tr><td>3.600</td><td>83   </td></tr>\n",
       "\t<tr><td>1.967</td><td>55   </td></tr>\n",
       "\t<tr><td>4.083</td><td>76   </td></tr>\n",
       "\t<tr><td>3.850</td><td>78   </td></tr>\n",
       "\t<tr><td>4.433</td><td>79   </td></tr>\n",
       "\t<tr><td>⋮</td><td>⋮</td></tr>\n",
       "\t<tr><td>4.933</td><td>86   </td></tr>\n",
       "\t<tr><td>2.900</td><td>63   </td></tr>\n",
       "\t<tr><td>4.583</td><td>85   </td></tr>\n",
       "\t<tr><td>3.833</td><td>82   </td></tr>\n",
       "\t<tr><td>2.083</td><td>57   </td></tr>\n",
       "\t<tr><td>4.367</td><td>82   </td></tr>\n",
       "\t<tr><td>2.133</td><td>67   </td></tr>\n",
       "\t<tr><td>4.350</td><td>74   </td></tr>\n",
       "\t<tr><td>2.200</td><td>54   </td></tr>\n",
       "\t<tr><td>4.450</td><td>83   </td></tr>\n",
       "\t<tr><td>3.567</td><td>73   </td></tr>\n",
       "\t<tr><td>4.500</td><td>73   </td></tr>\n",
       "\t<tr><td>4.150</td><td>88   </td></tr>\n",
       "\t<tr><td>3.817</td><td>80   </td></tr>\n",
       "\t<tr><td>3.917</td><td>71   </td></tr>\n",
       "\t<tr><td>4.450</td><td>83   </td></tr>\n",
       "\t<tr><td>2.000</td><td>56   </td></tr>\n",
       "\t<tr><td>4.283</td><td>79   </td></tr>\n",
       "\t<tr><td>4.767</td><td>78   </td></tr>\n",
       "\t<tr><td>4.533</td><td>84   </td></tr>\n",
       "\t<tr><td>1.850</td><td>58   </td></tr>\n",
       "\t<tr><td>4.250</td><td>83   </td></tr>\n",
       "\t<tr><td>1.983</td><td>43   </td></tr>\n",
       "\t<tr><td>2.250</td><td>60   </td></tr>\n",
       "\t<tr><td>4.750</td><td>75   </td></tr>\n",
       "\t<tr><td>4.117</td><td>81   </td></tr>\n",
       "\t<tr><td>2.150</td><td>46   </td></tr>\n",
       "\t<tr><td>4.417</td><td>90   </td></tr>\n",
       "\t<tr><td>1.817</td><td>46   </td></tr>\n",
       "\t<tr><td>4.467</td><td>74   </td></tr>\n",
       "</tbody>\n",
       "</table>\n"
      ],
      "text/latex": [
       "\\begin{tabular}{r|ll}\n",
       " eruptions & waiting\\\\\n",
       "\\hline\n",
       "\t 3.600 & 79   \\\\\n",
       "\t 1.800 & 54   \\\\\n",
       "\t 3.333 & 74   \\\\\n",
       "\t 2.283 & 62   \\\\\n",
       "\t 4.533 & 85   \\\\\n",
       "\t 2.883 & 55   \\\\\n",
       "\t 4.700 & 88   \\\\\n",
       "\t 3.600 & 85   \\\\\n",
       "\t 1.950 & 51   \\\\\n",
       "\t 4.350 & 85   \\\\\n",
       "\t 1.833 & 54   \\\\\n",
       "\t 3.917 & 84   \\\\\n",
       "\t 4.200 & 78   \\\\\n",
       "\t 1.750 & 47   \\\\\n",
       "\t 4.700 & 83   \\\\\n",
       "\t 2.167 & 52   \\\\\n",
       "\t 1.750 & 62   \\\\\n",
       "\t 4.800 & 84   \\\\\n",
       "\t 1.600 & 52   \\\\\n",
       "\t 4.250 & 79   \\\\\n",
       "\t 1.800 & 51   \\\\\n",
       "\t 1.750 & 47   \\\\\n",
       "\t 3.450 & 78   \\\\\n",
       "\t 3.067 & 69   \\\\\n",
       "\t 4.533 & 74   \\\\\n",
       "\t 3.600 & 83   \\\\\n",
       "\t 1.967 & 55   \\\\\n",
       "\t 4.083 & 76   \\\\\n",
       "\t 3.850 & 78   \\\\\n",
       "\t 4.433 & 79   \\\\\n",
       "\t ⋮ & ⋮\\\\\n",
       "\t 4.933 & 86   \\\\\n",
       "\t 2.900 & 63   \\\\\n",
       "\t 4.583 & 85   \\\\\n",
       "\t 3.833 & 82   \\\\\n",
       "\t 2.083 & 57   \\\\\n",
       "\t 4.367 & 82   \\\\\n",
       "\t 2.133 & 67   \\\\\n",
       "\t 4.350 & 74   \\\\\n",
       "\t 2.200 & 54   \\\\\n",
       "\t 4.450 & 83   \\\\\n",
       "\t 3.567 & 73   \\\\\n",
       "\t 4.500 & 73   \\\\\n",
       "\t 4.150 & 88   \\\\\n",
       "\t 3.817 & 80   \\\\\n",
       "\t 3.917 & 71   \\\\\n",
       "\t 4.450 & 83   \\\\\n",
       "\t 2.000 & 56   \\\\\n",
       "\t 4.283 & 79   \\\\\n",
       "\t 4.767 & 78   \\\\\n",
       "\t 4.533 & 84   \\\\\n",
       "\t 1.850 & 58   \\\\\n",
       "\t 4.250 & 83   \\\\\n",
       "\t 1.983 & 43   \\\\\n",
       "\t 2.250 & 60   \\\\\n",
       "\t 4.750 & 75   \\\\\n",
       "\t 4.117 & 81   \\\\\n",
       "\t 2.150 & 46   \\\\\n",
       "\t 4.417 & 90   \\\\\n",
       "\t 1.817 & 46   \\\\\n",
       "\t 4.467 & 74   \\\\\n",
       "\\end{tabular}\n"
      ],
      "text/markdown": [
       "\n",
       "eruptions | waiting | \n",
       "|---|---|---|---|---|---|---|---|---|---|---|---|---|---|---|---|---|---|---|---|---|---|---|---|---|---|---|---|---|---|---|---|---|---|---|---|---|---|---|---|---|---|---|---|---|---|---|---|---|---|---|---|---|---|---|---|---|---|---|---|---|\n",
       "| 3.600 | 79    | \n",
       "| 1.800 | 54    | \n",
       "| 3.333 | 74    | \n",
       "| 2.283 | 62    | \n",
       "| 4.533 | 85    | \n",
       "| 2.883 | 55    | \n",
       "| 4.700 | 88    | \n",
       "| 3.600 | 85    | \n",
       "| 1.950 | 51    | \n",
       "| 4.350 | 85    | \n",
       "| 1.833 | 54    | \n",
       "| 3.917 | 84    | \n",
       "| 4.200 | 78    | \n",
       "| 1.750 | 47    | \n",
       "| 4.700 | 83    | \n",
       "| 2.167 | 52    | \n",
       "| 1.750 | 62    | \n",
       "| 4.800 | 84    | \n",
       "| 1.600 | 52    | \n",
       "| 4.250 | 79    | \n",
       "| 1.800 | 51    | \n",
       "| 1.750 | 47    | \n",
       "| 3.450 | 78    | \n",
       "| 3.067 | 69    | \n",
       "| 4.533 | 74    | \n",
       "| 3.600 | 83    | \n",
       "| 1.967 | 55    | \n",
       "| 4.083 | 76    | \n",
       "| 3.850 | 78    | \n",
       "| 4.433 | 79    | \n",
       "| ⋮ | ⋮ | \n",
       "| 4.933 | 86    | \n",
       "| 2.900 | 63    | \n",
       "| 4.583 | 85    | \n",
       "| 3.833 | 82    | \n",
       "| 2.083 | 57    | \n",
       "| 4.367 | 82    | \n",
       "| 2.133 | 67    | \n",
       "| 4.350 | 74    | \n",
       "| 2.200 | 54    | \n",
       "| 4.450 | 83    | \n",
       "| 3.567 | 73    | \n",
       "| 4.500 | 73    | \n",
       "| 4.150 | 88    | \n",
       "| 3.817 | 80    | \n",
       "| 3.917 | 71    | \n",
       "| 4.450 | 83    | \n",
       "| 2.000 | 56    | \n",
       "| 4.283 | 79    | \n",
       "| 4.767 | 78    | \n",
       "| 4.533 | 84    | \n",
       "| 1.850 | 58    | \n",
       "| 4.250 | 83    | \n",
       "| 1.983 | 43    | \n",
       "| 2.250 | 60    | \n",
       "| 4.750 | 75    | \n",
       "| 4.117 | 81    | \n",
       "| 2.150 | 46    | \n",
       "| 4.417 | 90    | \n",
       "| 1.817 | 46    | \n",
       "| 4.467 | 74    | \n",
       "\n",
       "\n"
      ],
      "text/plain": [
       "    eruptions waiting\n",
       "1   3.600     79     \n",
       "2   1.800     54     \n",
       "3   3.333     74     \n",
       "4   2.283     62     \n",
       "5   4.533     85     \n",
       "6   2.883     55     \n",
       "7   4.700     88     \n",
       "8   3.600     85     \n",
       "9   1.950     51     \n",
       "10  4.350     85     \n",
       "11  1.833     54     \n",
       "12  3.917     84     \n",
       "13  4.200     78     \n",
       "14  1.750     47     \n",
       "15  4.700     83     \n",
       "16  2.167     52     \n",
       "17  1.750     62     \n",
       "18  4.800     84     \n",
       "19  1.600     52     \n",
       "20  4.250     79     \n",
       "21  1.800     51     \n",
       "22  1.750     47     \n",
       "23  3.450     78     \n",
       "24  3.067     69     \n",
       "25  4.533     74     \n",
       "26  3.600     83     \n",
       "27  1.967     55     \n",
       "28  4.083     76     \n",
       "29  3.850     78     \n",
       "30  4.433     79     \n",
       "⋮   ⋮         ⋮      \n",
       "243 4.933     86     \n",
       "244 2.900     63     \n",
       "245 4.583     85     \n",
       "246 3.833     82     \n",
       "247 2.083     57     \n",
       "248 4.367     82     \n",
       "249 2.133     67     \n",
       "250 4.350     74     \n",
       "251 2.200     54     \n",
       "252 4.450     83     \n",
       "253 3.567     73     \n",
       "254 4.500     73     \n",
       "255 4.150     88     \n",
       "256 3.817     80     \n",
       "257 3.917     71     \n",
       "258 4.450     83     \n",
       "259 2.000     56     \n",
       "260 4.283     79     \n",
       "261 4.767     78     \n",
       "262 4.533     84     \n",
       "263 1.850     58     \n",
       "264 4.250     83     \n",
       "265 1.983     43     \n",
       "266 2.250     60     \n",
       "267 4.750     75     \n",
       "268 4.117     81     \n",
       "269 2.150     46     \n",
       "270 4.417     90     \n",
       "271 1.817     46     \n",
       "272 4.467     74     "
      ]
     },
     "metadata": {},
     "output_type": "display_data"
    }
   ],
   "source": [
    "# Inspect the dataset itself\n",
    "faithful"
   ]
  },
  {
   "cell_type": "code",
   "execution_count": 26,
   "metadata": {},
   "outputs": [],
   "source": [
    "# Let's fit a linear regression\n",
    "eruption_model = lm(waiting ~ eruptions, data=faithful)"
   ]
  },
  {
   "cell_type": "code",
   "execution_count": 27,
   "metadata": {},
   "outputs": [
    {
     "data": {
      "text/plain": [
       "\n",
       "Call:\n",
       "lm(formula = waiting ~ eruptions, data = faithful)\n",
       "\n",
       "Residuals:\n",
       "     Min       1Q   Median       3Q      Max \n",
       "-12.0796  -4.4831   0.2122   3.9246  15.9719 \n",
       "\n",
       "Coefficients:\n",
       "            Estimate Std. Error t value Pr(>|t|)    \n",
       "(Intercept)  33.4744     1.1549   28.98   <2e-16 ***\n",
       "eruptions    10.7296     0.3148   34.09   <2e-16 ***\n",
       "---\n",
       "Signif. codes:  0 ‘***’ 0.001 ‘**’ 0.01 ‘*’ 0.05 ‘.’ 0.1 ‘ ’ 1\n",
       "\n",
       "Residual standard error: 5.914 on 270 degrees of freedom\n",
       "Multiple R-squared:  0.8115,\tAdjusted R-squared:  0.8108 \n",
       "F-statistic:  1162 on 1 and 270 DF,  p-value: < 2.2e-16\n"
      ]
     },
     "metadata": {},
     "output_type": "display_data"
    }
   ],
   "source": [
    "# Show the regression results (Refer to Slide 19 for interpretation)\n",
    "summary(eruption_model)  # show the regression results"
   ]
  },
  {
   "cell_type": "code",
   "execution_count": 30,
   "metadata": {},
   "outputs": [
    {
     "data": {
      "text/html": [
       "<dl class=dl-horizontal>\n",
       "\t<dt>1</dt>\n",
       "\t\t<dd>248.067224925424</dd>\n",
       "\t<dt>2</dt>\n",
       "\t\t<dd>462.660052828094</dd>\n",
       "\t<dt>3</dt>\n",
       "\t\t<dd>409.011845852426</dd>\n",
       "\t<dt>4</dt>\n",
       "\t\t<dd>891.845708633434</dd>\n",
       "</dl>\n"
      ],
      "text/latex": [
       "\\begin{description*}\n",
       "\\item[1] 248.067224925424\n",
       "\\item[2] 462.660052828094\n",
       "\\item[3] 409.011845852426\n",
       "\\item[4] 891.845708633434\n",
       "\\end{description*}\n"
      ],
      "text/markdown": [
       "1\n",
       ":   248.0672249254242\n",
       ":   462.6600528280943\n",
       ":   409.0118458524264\n",
       ":   891.845708633434\n",
       "\n"
      ],
      "text/plain": [
       "       1        2        3        4 \n",
       "248.0672 462.6601 409.0118 891.8457 "
      ]
     },
     "metadata": {},
     "output_type": "display_data"
    }
   ],
   "source": [
    "# Let's create some simulated eruption time to predict waiting time (Slide 22)\n",
    "# Create a new data frame with eruption time of 20, 40, 35, and 80\n",
    "newdata = data.frame(eruptions=c(20, 40, 35, 80))\n",
    "\n",
    "# We then use the fitted model \"eruption\" to predict the waiting time for each of these simulated data\n",
    "predict(eruption_model, newdata)  # predict the outcome of new data\n",
    "\n",
    "# Results show that the associated waiting times for each eruption length:\n",
    "# 20 - 248\n",
    "# 40 - 463\n",
    "# 35 - 409\n",
    "# 80 - 892"
   ]
  },
  {
   "cell_type": "code",
   "execution_count": 32,
   "metadata": {},
   "outputs": [],
   "source": [
    "# Multivariate regressions (Slide 23)\n",
    "# Load the UC Berkely admittance data\n",
    "ucb_data = data.frame(UCBAdmissions)\n",
    "\n",
    "# Check what this dataset is about\n",
    "?UCBAdmissions"
   ]
  },
  {
   "cell_type": "code",
   "execution_count": 36,
   "metadata": {},
   "outputs": [
    {
     "data": {
      "text/html": [
       "<table>\n",
       "<thead><tr><th scope=col>Admit</th><th scope=col>Gender</th><th scope=col>Dept</th><th scope=col>Freq</th></tr></thead>\n",
       "<tbody>\n",
       "\t<tr><td>Admitted</td><td>Male    </td><td>A       </td><td>512     </td></tr>\n",
       "\t<tr><td>Rejected</td><td>Male    </td><td>A       </td><td>313     </td></tr>\n",
       "\t<tr><td>Admitted</td><td>Female  </td><td>A       </td><td> 89     </td></tr>\n",
       "\t<tr><td>Rejected</td><td>Female  </td><td>A       </td><td> 19     </td></tr>\n",
       "\t<tr><td>Admitted</td><td>Male    </td><td>B       </td><td>353     </td></tr>\n",
       "\t<tr><td>Rejected</td><td>Male    </td><td>B       </td><td>207     </td></tr>\n",
       "\t<tr><td>Admitted</td><td>Female  </td><td>B       </td><td> 17     </td></tr>\n",
       "\t<tr><td>Rejected</td><td>Female  </td><td>B       </td><td>  8     </td></tr>\n",
       "\t<tr><td>Admitted</td><td>Male    </td><td>C       </td><td>120     </td></tr>\n",
       "\t<tr><td>Rejected</td><td>Male    </td><td>C       </td><td>205     </td></tr>\n",
       "\t<tr><td>Admitted</td><td>Female  </td><td>C       </td><td>202     </td></tr>\n",
       "\t<tr><td>Rejected</td><td>Female  </td><td>C       </td><td>391     </td></tr>\n",
       "\t<tr><td>Admitted</td><td>Male    </td><td>D       </td><td>138     </td></tr>\n",
       "\t<tr><td>Rejected</td><td>Male    </td><td>D       </td><td>279     </td></tr>\n",
       "\t<tr><td>Admitted</td><td>Female  </td><td>D       </td><td>131     </td></tr>\n",
       "\t<tr><td>Rejected</td><td>Female  </td><td>D       </td><td>244     </td></tr>\n",
       "\t<tr><td>Admitted</td><td>Male    </td><td>E       </td><td> 53     </td></tr>\n",
       "\t<tr><td>Rejected</td><td>Male    </td><td>E       </td><td>138     </td></tr>\n",
       "\t<tr><td>Admitted</td><td>Female  </td><td>E       </td><td> 94     </td></tr>\n",
       "\t<tr><td>Rejected</td><td>Female  </td><td>E       </td><td>299     </td></tr>\n",
       "\t<tr><td>Admitted</td><td>Male    </td><td>F       </td><td> 22     </td></tr>\n",
       "\t<tr><td>Rejected</td><td>Male    </td><td>F       </td><td>351     </td></tr>\n",
       "\t<tr><td>Admitted</td><td>Female  </td><td>F       </td><td> 24     </td></tr>\n",
       "\t<tr><td>Rejected</td><td>Female  </td><td>F       </td><td>317     </td></tr>\n",
       "</tbody>\n",
       "</table>\n"
      ],
      "text/latex": [
       "\\begin{tabular}{r|llll}\n",
       " Admit & Gender & Dept & Freq\\\\\n",
       "\\hline\n",
       "\t Admitted & Male     & A        & 512     \\\\\n",
       "\t Rejected & Male     & A        & 313     \\\\\n",
       "\t Admitted & Female   & A        &  89     \\\\\n",
       "\t Rejected & Female   & A        &  19     \\\\\n",
       "\t Admitted & Male     & B        & 353     \\\\\n",
       "\t Rejected & Male     & B        & 207     \\\\\n",
       "\t Admitted & Female   & B        &  17     \\\\\n",
       "\t Rejected & Female   & B        &   8     \\\\\n",
       "\t Admitted & Male     & C        & 120     \\\\\n",
       "\t Rejected & Male     & C        & 205     \\\\\n",
       "\t Admitted & Female   & C        & 202     \\\\\n",
       "\t Rejected & Female   & C        & 391     \\\\\n",
       "\t Admitted & Male     & D        & 138     \\\\\n",
       "\t Rejected & Male     & D        & 279     \\\\\n",
       "\t Admitted & Female   & D        & 131     \\\\\n",
       "\t Rejected & Female   & D        & 244     \\\\\n",
       "\t Admitted & Male     & E        &  53     \\\\\n",
       "\t Rejected & Male     & E        & 138     \\\\\n",
       "\t Admitted & Female   & E        &  94     \\\\\n",
       "\t Rejected & Female   & E        & 299     \\\\\n",
       "\t Admitted & Male     & F        &  22     \\\\\n",
       "\t Rejected & Male     & F        & 351     \\\\\n",
       "\t Admitted & Female   & F        &  24     \\\\\n",
       "\t Rejected & Female   & F        & 317     \\\\\n",
       "\\end{tabular}\n"
      ],
      "text/markdown": [
       "\n",
       "Admit | Gender | Dept | Freq | \n",
       "|---|---|---|---|---|---|---|---|---|---|---|---|---|---|---|---|---|---|---|---|---|---|---|---|\n",
       "| Admitted | Male     | A        | 512      | \n",
       "| Rejected | Male     | A        | 313      | \n",
       "| Admitted | Female   | A        |  89      | \n",
       "| Rejected | Female   | A        |  19      | \n",
       "| Admitted | Male     | B        | 353      | \n",
       "| Rejected | Male     | B        | 207      | \n",
       "| Admitted | Female   | B        |  17      | \n",
       "| Rejected | Female   | B        |   8      | \n",
       "| Admitted | Male     | C        | 120      | \n",
       "| Rejected | Male     | C        | 205      | \n",
       "| Admitted | Female   | C        | 202      | \n",
       "| Rejected | Female   | C        | 391      | \n",
       "| Admitted | Male     | D        | 138      | \n",
       "| Rejected | Male     | D        | 279      | \n",
       "| Admitted | Female   | D        | 131      | \n",
       "| Rejected | Female   | D        | 244      | \n",
       "| Admitted | Male     | E        |  53      | \n",
       "| Rejected | Male     | E        | 138      | \n",
       "| Admitted | Female   | E        |  94      | \n",
       "| Rejected | Female   | E        | 299      | \n",
       "| Admitted | Male     | F        |  22      | \n",
       "| Rejected | Male     | F        | 351      | \n",
       "| Admitted | Female   | F        |  24      | \n",
       "| Rejected | Female   | F        | 317      | \n",
       "\n",
       "\n"
      ],
      "text/plain": [
       "   Admit    Gender Dept Freq\n",
       "1  Admitted Male   A    512 \n",
       "2  Rejected Male   A    313 \n",
       "3  Admitted Female A     89 \n",
       "4  Rejected Female A     19 \n",
       "5  Admitted Male   B    353 \n",
       "6  Rejected Male   B    207 \n",
       "7  Admitted Female B     17 \n",
       "8  Rejected Female B      8 \n",
       "9  Admitted Male   C    120 \n",
       "10 Rejected Male   C    205 \n",
       "11 Admitted Female C    202 \n",
       "12 Rejected Female C    391 \n",
       "13 Admitted Male   D    138 \n",
       "14 Rejected Male   D    279 \n",
       "15 Admitted Female D    131 \n",
       "16 Rejected Female D    244 \n",
       "17 Admitted Male   E     53 \n",
       "18 Rejected Male   E    138 \n",
       "19 Admitted Female E     94 \n",
       "20 Rejected Female E    299 \n",
       "21 Admitted Male   F     22 \n",
       "22 Rejected Male   F    351 \n",
       "23 Admitted Female F     24 \n",
       "24 Rejected Female F    317 "
      ]
     },
     "metadata": {},
     "output_type": "display_data"
    }
   ],
   "source": [
    "# Inspect the data\n",
    "ucb_data\n",
    "\n",
    "# Note that admit, gender and department are categorical variables"
   ]
  },
  {
   "cell_type": "code",
   "execution_count": 39,
   "metadata": {},
   "outputs": [
    {
     "name": "stdout",
     "output_type": "stream",
     "text": [
      "'data.frame':\t24 obs. of  4 variables:\n",
      " $ Admit : Factor w/ 2 levels \"Admitted\",\"Rejected\": 1 2 1 2 1 2 1 2 1 2 ...\n",
      " $ Gender: Factor w/ 2 levels \"Male\",\"Female\": 1 1 2 2 1 1 2 2 1 1 ...\n",
      " $ Dept  : Factor w/ 6 levels \"A\",\"B\",\"C\",\"D\",..: 1 1 1 1 2 2 2 2 3 3 ...\n",
      " $ Freq  : num  512 313 89 19 353 207 17 8 120 205 ...\n"
     ]
    }
   ],
   "source": [
    "# Check that admit, gender, dept are encoded as categorical variables (Factor)\n",
    "# If not, you should convert the variables to factors using as.factor\n",
    "str(ucb_data)"
   ]
  },
  {
   "cell_type": "code",
   "execution_count": 40,
   "metadata": {},
   "outputs": [
    {
     "data": {
      "text/plain": [
       "      Admit       Gender   Dept       Freq      \n",
       " Admitted:12   Male  :12   A:4   Min.   :  8.0  \n",
       " Rejected:12   Female:12   B:4   1st Qu.: 80.0  \n",
       "                           C:4   Median :170.0  \n",
       "                           D:4   Mean   :188.6  \n",
       "                           E:4   3rd Qu.:302.5  \n",
       "                           F:4   Max.   :512.0  "
      ]
     },
     "metadata": {},
     "output_type": "display_data"
    }
   ],
   "source": [
    "# Check the summary statistics for the dataset to ensure no outliers like negative frequencies\n",
    "# Categorical variables are represented as categories while numerical variables have min, mean, max etc.\n",
    "summary(ucb_data)"
   ]
  },
  {
   "cell_type": "code",
   "execution_count": 41,
   "metadata": {},
   "outputs": [],
   "source": [
    "# To convert variables to integers\n",
    "ucb_data[\"Gender\"] = as.integer(ucb_data[[\"Gender\"]])"
   ]
  },
  {
   "cell_type": "code",
   "execution_count": 42,
   "metadata": {},
   "outputs": [
    {
     "data": {
      "text/plain": [
       "      Admit        Gender    Dept       Freq      \n",
       " Admitted:12   Min.   :1.0   A:4   Min.   :  8.0  \n",
       " Rejected:12   1st Qu.:1.0   B:4   1st Qu.: 80.0  \n",
       "               Median :1.5   C:4   Median :170.0  \n",
       "               Mean   :1.5   D:4   Mean   :188.6  \n",
       "               3rd Qu.:2.0   E:4   3rd Qu.:302.5  \n",
       "               Max.   :2.0   F:4   Max.   :512.0  "
      ]
     },
     "metadata": {},
     "output_type": "display_data"
    }
   ],
   "source": [
    "# Inspect the data and observe that gender is now numerical (which is wrong for interpretation)\n",
    "summary(ucb_data)"
   ]
  },
  {
   "cell_type": "code",
   "execution_count": 44,
   "metadata": {},
   "outputs": [],
   "source": [
    "# To convert numerical variables back to categorical\n",
    "ucb_data[\"Gender\"] = as.factor(ucb_data[[\"Gender\"]])"
   ]
  },
  {
   "cell_type": "code",
   "execution_count": 45,
   "metadata": {},
   "outputs": [
    {
     "data": {
      "text/plain": [
       "      Admit    Gender Dept       Freq      \n",
       " Admitted:12   1:12   A:4   Min.   :  8.0  \n",
       " Rejected:12   2:12   B:4   1st Qu.: 80.0  \n",
       "                      C:4   Median :170.0  \n",
       "                      D:4   Mean   :188.6  \n",
       "                      E:4   3rd Qu.:302.5  \n",
       "                      F:4   Max.   :512.0  "
      ]
     },
     "metadata": {},
     "output_type": "display_data"
    }
   ],
   "source": [
    "# Check the data again to ensure that we have correctly converted gender\n",
    "summary(ucb_data)"
   ]
  },
  {
   "cell_type": "code",
   "execution_count": 46,
   "metadata": {},
   "outputs": [],
   "source": [
    "# R handles categorical/numerical variables automatically\n",
    "# We don't need to re-format the data into what was represented in Slide 25 and 26\n",
    "# In R, we just need to make sure that variables are correctly formatted as numerical or categorical"
   ]
  },
  {
   "cell_type": "code",
   "execution_count": 86,
   "metadata": {},
   "outputs": [],
   "source": [
    "# Let's load another dataset (seatbelts)\n",
    "sb_data = data.frame(Seatbelts)"
   ]
  },
  {
   "cell_type": "code",
   "execution_count": 54,
   "metadata": {},
   "outputs": [
    {
     "name": "stdout",
     "output_type": "stream",
     "text": [
      "'data.frame':\t192 obs. of  8 variables:\n",
      " $ DriversKilled: num  107 97 102 87 119 106 110 106 107 134 ...\n",
      " $ drivers      : num  1687 1508 1507 1385 1632 ...\n",
      " $ front        : num  867 825 806 814 991 ...\n",
      " $ rear         : num  269 265 319 407 454 427 522 536 405 437 ...\n",
      " $ kms          : num  9059 7685 9963 10955 11823 ...\n",
      " $ PetrolPrice  : num  0.103 0.102 0.102 0.101 0.101 ...\n",
      " $ VanKilled    : num  12 6 12 8 10 13 11 6 10 16 ...\n",
      " $ law          : num  0 0 0 0 0 0 0 0 0 0 ...\n"
     ]
    }
   ],
   "source": [
    "# Descriptive statistics - exploratory\n",
    "# 1. investigate the structure of the dataset\n",
    "# make sure that your variables are of the correct data types\n",
    "str(sb_data)  "
   ]
  },
  {
   "cell_type": "code",
   "execution_count": 57,
   "metadata": {},
   "outputs": [
    {
     "data": {
      "text/html": [
       "<table>\n",
       "<thead><tr><th scope=col>DriversKilled</th><th scope=col>drivers</th><th scope=col>front</th><th scope=col>rear</th><th scope=col>kms</th><th scope=col>PetrolPrice</th><th scope=col>VanKilled</th><th scope=col>law</th></tr></thead>\n",
       "<tbody>\n",
       "\t<tr><td>107      </td><td>1687     </td><td>867      </td><td>269      </td><td> 9059    </td><td>0.1029718</td><td>12       </td><td>0        </td></tr>\n",
       "\t<tr><td> 97      </td><td>1508     </td><td>825      </td><td>265      </td><td> 7685    </td><td>0.1023630</td><td> 6       </td><td>0        </td></tr>\n",
       "\t<tr><td>102      </td><td>1507     </td><td>806      </td><td>319      </td><td> 9963    </td><td>0.1020625</td><td>12       </td><td>0        </td></tr>\n",
       "\t<tr><td> 87      </td><td>1385     </td><td>814      </td><td>407      </td><td>10955    </td><td>0.1008733</td><td> 8       </td><td>0        </td></tr>\n",
       "\t<tr><td>119      </td><td>1632     </td><td>991      </td><td>454      </td><td>11823    </td><td>0.1010197</td><td>10       </td><td>0        </td></tr>\n",
       "\t<tr><td>106      </td><td>1511     </td><td>945      </td><td>427      </td><td>12391    </td><td>0.1005812</td><td>13       </td><td>0        </td></tr>\n",
       "</tbody>\n",
       "</table>\n"
      ],
      "text/latex": [
       "\\begin{tabular}{r|llllllll}\n",
       " DriversKilled & drivers & front & rear & kms & PetrolPrice & VanKilled & law\\\\\n",
       "\\hline\n",
       "\t 107       & 1687      & 867       & 269       &  9059     & 0.1029718 & 12        & 0        \\\\\n",
       "\t  97       & 1508      & 825       & 265       &  7685     & 0.1023630 &  6        & 0        \\\\\n",
       "\t 102       & 1507      & 806       & 319       &  9963     & 0.1020625 & 12        & 0        \\\\\n",
       "\t  87       & 1385      & 814       & 407       & 10955     & 0.1008733 &  8        & 0        \\\\\n",
       "\t 119       & 1632      & 991       & 454       & 11823     & 0.1010197 & 10        & 0        \\\\\n",
       "\t 106       & 1511      & 945       & 427       & 12391     & 0.1005812 & 13        & 0        \\\\\n",
       "\\end{tabular}\n"
      ],
      "text/markdown": [
       "\n",
       "DriversKilled | drivers | front | rear | kms | PetrolPrice | VanKilled | law | \n",
       "|---|---|---|---|---|---|\n",
       "| 107       | 1687      | 867       | 269       |  9059     | 0.1029718 | 12        | 0         | \n",
       "|  97       | 1508      | 825       | 265       |  7685     | 0.1023630 |  6        | 0         | \n",
       "| 102       | 1507      | 806       | 319       |  9963     | 0.1020625 | 12        | 0         | \n",
       "|  87       | 1385      | 814       | 407       | 10955     | 0.1008733 |  8        | 0         | \n",
       "| 119       | 1632      | 991       | 454       | 11823     | 0.1010197 | 10        | 0         | \n",
       "| 106       | 1511      | 945       | 427       | 12391     | 0.1005812 | 13        | 0         | \n",
       "\n",
       "\n"
      ],
      "text/plain": [
       "  DriversKilled drivers front rear kms   PetrolPrice VanKilled law\n",
       "1 107           1687    867   269   9059 0.1029718   12        0  \n",
       "2  97           1508    825   265   7685 0.1023630    6        0  \n",
       "3 102           1507    806   319   9963 0.1020625   12        0  \n",
       "4  87           1385    814   407  10955 0.1008733    8        0  \n",
       "5 119           1632    991   454  11823 0.1010197   10        0  \n",
       "6 106           1511    945   427  12391 0.1005812   13        0  "
      ]
     },
     "metadata": {},
     "output_type": "display_data"
    },
    {
     "data": {
      "text/html": [
       "<table>\n",
       "<thead><tr><th></th><th scope=col>DriversKilled</th><th scope=col>drivers</th><th scope=col>front</th><th scope=col>rear</th><th scope=col>kms</th><th scope=col>PetrolPrice</th><th scope=col>VanKilled</th><th scope=col>law</th></tr></thead>\n",
       "<tbody>\n",
       "\t<tr><th scope=row>187</th><td> 79      </td><td>1222     </td><td>601      </td><td>472      </td><td>21486    </td><td>0.1149360</td><td>7        </td><td>1        </td></tr>\n",
       "\t<tr><th scope=row>188</th><td> 96      </td><td>1284     </td><td>644      </td><td>521      </td><td>21626    </td><td>0.1147970</td><td>5        </td><td>1        </td></tr>\n",
       "\t<tr><th scope=row>189</th><td>122      </td><td>1444     </td><td>643      </td><td>429      </td><td>20195    </td><td>0.1140932</td><td>7        </td><td>1        </td></tr>\n",
       "\t<tr><th scope=row>190</th><td>120      </td><td>1575     </td><td>641      </td><td>408      </td><td>19928    </td><td>0.1164655</td><td>7        </td><td>1        </td></tr>\n",
       "\t<tr><th scope=row>191</th><td>137      </td><td>1737     </td><td>711      </td><td>490      </td><td>18564    </td><td>0.1160261</td><td>4        </td><td>1        </td></tr>\n",
       "\t<tr><th scope=row>192</th><td>154      </td><td>1763     </td><td>721      </td><td>491      </td><td>18149    </td><td>0.1160667</td><td>7        </td><td>1        </td></tr>\n",
       "</tbody>\n",
       "</table>\n"
      ],
      "text/latex": [
       "\\begin{tabular}{r|llllllll}\n",
       "  & DriversKilled & drivers & front & rear & kms & PetrolPrice & VanKilled & law\\\\\n",
       "\\hline\n",
       "\t187 &  79       & 1222      & 601       & 472       & 21486     & 0.1149360 & 7         & 1        \\\\\n",
       "\t188 &  96       & 1284      & 644       & 521       & 21626     & 0.1147970 & 5         & 1        \\\\\n",
       "\t189 & 122       & 1444      & 643       & 429       & 20195     & 0.1140932 & 7         & 1        \\\\\n",
       "\t190 & 120       & 1575      & 641       & 408       & 19928     & 0.1164655 & 7         & 1        \\\\\n",
       "\t191 & 137       & 1737      & 711       & 490       & 18564     & 0.1160261 & 4         & 1        \\\\\n",
       "\t192 & 154       & 1763      & 721       & 491       & 18149     & 0.1160667 & 7         & 1        \\\\\n",
       "\\end{tabular}\n"
      ],
      "text/markdown": [
       "\n",
       "| <!--/--> | DriversKilled | drivers | front | rear | kms | PetrolPrice | VanKilled | law | \n",
       "|---|---|---|---|---|---|\n",
       "| 187 |  79       | 1222      | 601       | 472       | 21486     | 0.1149360 | 7         | 1         | \n",
       "| 188 |  96       | 1284      | 644       | 521       | 21626     | 0.1147970 | 5         | 1         | \n",
       "| 189 | 122       | 1444      | 643       | 429       | 20195     | 0.1140932 | 7         | 1         | \n",
       "| 190 | 120       | 1575      | 641       | 408       | 19928     | 0.1164655 | 7         | 1         | \n",
       "| 191 | 137       | 1737      | 711       | 490       | 18564     | 0.1160261 | 4         | 1         | \n",
       "| 192 | 154       | 1763      | 721       | 491       | 18149     | 0.1160667 | 7         | 1         | \n",
       "\n",
       "\n"
      ],
      "text/plain": [
       "    DriversKilled drivers front rear kms   PetrolPrice VanKilled law\n",
       "187  79           1222    601   472  21486 0.1149360   7         1  \n",
       "188  96           1284    644   521  21626 0.1147970   5         1  \n",
       "189 122           1444    643   429  20195 0.1140932   7         1  \n",
       "190 120           1575    641   408  19928 0.1164655   7         1  \n",
       "191 137           1737    711   490  18564 0.1160261   4         1  \n",
       "192 154           1763    721   491  18149 0.1160667   7         1  "
      ]
     },
     "metadata": {},
     "output_type": "display_data"
    },
    {
     "data": {
      "text/html": [
       "<table>\n",
       "<thead><tr><th scope=col>DriversKilled</th><th scope=col>drivers</th><th scope=col>front</th><th scope=col>rear</th><th scope=col>kms</th><th scope=col>PetrolPrice</th><th scope=col>VanKilled</th><th scope=col>law</th></tr></thead>\n",
       "<tbody>\n",
       "\t<tr><td>107       </td><td>1687      </td><td> 867      </td><td>269       </td><td> 9059     </td><td>0.10297181</td><td>12        </td><td>0         </td></tr>\n",
       "\t<tr><td> 97       </td><td>1508      </td><td> 825      </td><td>265       </td><td> 7685     </td><td>0.10236300</td><td> 6        </td><td>0         </td></tr>\n",
       "\t<tr><td>102       </td><td>1507      </td><td> 806      </td><td>319       </td><td> 9963     </td><td>0.10206249</td><td>12        </td><td>0         </td></tr>\n",
       "\t<tr><td> 87       </td><td>1385      </td><td> 814      </td><td>407       </td><td>10955     </td><td>0.10087330</td><td> 8        </td><td>0         </td></tr>\n",
       "\t<tr><td>119       </td><td>1632      </td><td> 991      </td><td>454       </td><td>11823     </td><td>0.10101967</td><td>10        </td><td>0         </td></tr>\n",
       "\t<tr><td>106       </td><td>1511      </td><td> 945      </td><td>427       </td><td>12391     </td><td>0.10058119</td><td>13        </td><td>0         </td></tr>\n",
       "\t<tr><td>110       </td><td>1559      </td><td>1004      </td><td>522       </td><td>13460     </td><td>0.10377398</td><td>11        </td><td>0         </td></tr>\n",
       "\t<tr><td>106       </td><td>1630      </td><td>1091      </td><td>536       </td><td>14055     </td><td>0.10407640</td><td> 6        </td><td>0         </td></tr>\n",
       "\t<tr><td>107       </td><td>1579      </td><td> 958      </td><td>405       </td><td>12106     </td><td>0.10377398</td><td>10        </td><td>0         </td></tr>\n",
       "\t<tr><td>134       </td><td>1653      </td><td> 850      </td><td>437       </td><td>11372     </td><td>0.10302640</td><td>16        </td><td>0         </td></tr>\n",
       "\t<tr><td>147       </td><td>2152      </td><td>1109      </td><td>434       </td><td> 9834     </td><td>0.10273011</td><td>13        </td><td>0         </td></tr>\n",
       "\t<tr><td>180       </td><td>2148      </td><td>1113      </td><td>437       </td><td> 9267     </td><td>0.10199719</td><td>14        </td><td>0         </td></tr>\n",
       "\t<tr><td>125       </td><td>1752      </td><td> 925      </td><td>316       </td><td> 9130     </td><td>0.10127456</td><td>14        </td><td>0         </td></tr>\n",
       "\t<tr><td>134       </td><td>1765      </td><td> 903      </td><td>311       </td><td> 8933     </td><td>0.10070398</td><td> 6        </td><td>0         </td></tr>\n",
       "\t<tr><td>110       </td><td>1717      </td><td>1006      </td><td>351       </td><td>11000     </td><td>0.10013961</td><td> 8        </td><td>0         </td></tr>\n",
       "\t<tr><td>102       </td><td>1558      </td><td> 892      </td><td>362       </td><td>10733     </td><td>0.09862110</td><td>11        </td><td>0         </td></tr>\n",
       "\t<tr><td>103       </td><td>1575      </td><td> 990      </td><td>486       </td><td>12912     </td><td>0.09834929</td><td> 7        </td><td>0         </td></tr>\n",
       "\t<tr><td>111       </td><td>1520      </td><td> 866      </td><td>429       </td><td>12926     </td><td>0.09808018</td><td>13        </td><td>0         </td></tr>\n",
       "\t<tr><td>120       </td><td>1805      </td><td>1095      </td><td>551       </td><td>13990     </td><td>0.09727921</td><td>13        </td><td>0         </td></tr>\n",
       "\t<tr><td>129       </td><td>1800      </td><td>1204      </td><td>646       </td><td>14926     </td><td>0.09741062</td><td>11        </td><td>0         </td></tr>\n",
       "</tbody>\n",
       "</table>\n"
      ],
      "text/latex": [
       "\\begin{tabular}{r|llllllll}\n",
       " DriversKilled & drivers & front & rear & kms & PetrolPrice & VanKilled & law\\\\\n",
       "\\hline\n",
       "\t 107        & 1687       &  867       & 269        &  9059      & 0.10297181 & 12         & 0         \\\\\n",
       "\t  97        & 1508       &  825       & 265        &  7685      & 0.10236300 &  6         & 0         \\\\\n",
       "\t 102        & 1507       &  806       & 319        &  9963      & 0.10206249 & 12         & 0         \\\\\n",
       "\t  87        & 1385       &  814       & 407        & 10955      & 0.10087330 &  8         & 0         \\\\\n",
       "\t 119        & 1632       &  991       & 454        & 11823      & 0.10101967 & 10         & 0         \\\\\n",
       "\t 106        & 1511       &  945       & 427        & 12391      & 0.10058119 & 13         & 0         \\\\\n",
       "\t 110        & 1559       & 1004       & 522        & 13460      & 0.10377398 & 11         & 0         \\\\\n",
       "\t 106        & 1630       & 1091       & 536        & 14055      & 0.10407640 &  6         & 0         \\\\\n",
       "\t 107        & 1579       &  958       & 405        & 12106      & 0.10377398 & 10         & 0         \\\\\n",
       "\t 134        & 1653       &  850       & 437        & 11372      & 0.10302640 & 16         & 0         \\\\\n",
       "\t 147        & 2152       & 1109       & 434        &  9834      & 0.10273011 & 13         & 0         \\\\\n",
       "\t 180        & 2148       & 1113       & 437        &  9267      & 0.10199719 & 14         & 0         \\\\\n",
       "\t 125        & 1752       &  925       & 316        &  9130      & 0.10127456 & 14         & 0         \\\\\n",
       "\t 134        & 1765       &  903       & 311        &  8933      & 0.10070398 &  6         & 0         \\\\\n",
       "\t 110        & 1717       & 1006       & 351        & 11000      & 0.10013961 &  8         & 0         \\\\\n",
       "\t 102        & 1558       &  892       & 362        & 10733      & 0.09862110 & 11         & 0         \\\\\n",
       "\t 103        & 1575       &  990       & 486        & 12912      & 0.09834929 &  7         & 0         \\\\\n",
       "\t 111        & 1520       &  866       & 429        & 12926      & 0.09808018 & 13         & 0         \\\\\n",
       "\t 120        & 1805       & 1095       & 551        & 13990      & 0.09727921 & 13         & 0         \\\\\n",
       "\t 129        & 1800       & 1204       & 646        & 14926      & 0.09741062 & 11         & 0         \\\\\n",
       "\\end{tabular}\n"
      ],
      "text/markdown": [
       "\n",
       "DriversKilled | drivers | front | rear | kms | PetrolPrice | VanKilled | law | \n",
       "|---|---|---|---|---|---|---|---|---|---|---|---|---|---|---|---|---|---|---|---|\n",
       "| 107        | 1687       |  867       | 269        |  9059      | 0.10297181 | 12         | 0          | \n",
       "|  97        | 1508       |  825       | 265        |  7685      | 0.10236300 |  6         | 0          | \n",
       "| 102        | 1507       |  806       | 319        |  9963      | 0.10206249 | 12         | 0          | \n",
       "|  87        | 1385       |  814       | 407        | 10955      | 0.10087330 |  8         | 0          | \n",
       "| 119        | 1632       |  991       | 454        | 11823      | 0.10101967 | 10         | 0          | \n",
       "| 106        | 1511       |  945       | 427        | 12391      | 0.10058119 | 13         | 0          | \n",
       "| 110        | 1559       | 1004       | 522        | 13460      | 0.10377398 | 11         | 0          | \n",
       "| 106        | 1630       | 1091       | 536        | 14055      | 0.10407640 |  6         | 0          | \n",
       "| 107        | 1579       |  958       | 405        | 12106      | 0.10377398 | 10         | 0          | \n",
       "| 134        | 1653       |  850       | 437        | 11372      | 0.10302640 | 16         | 0          | \n",
       "| 147        | 2152       | 1109       | 434        |  9834      | 0.10273011 | 13         | 0          | \n",
       "| 180        | 2148       | 1113       | 437        |  9267      | 0.10199719 | 14         | 0          | \n",
       "| 125        | 1752       |  925       | 316        |  9130      | 0.10127456 | 14         | 0          | \n",
       "| 134        | 1765       |  903       | 311        |  8933      | 0.10070398 |  6         | 0          | \n",
       "| 110        | 1717       | 1006       | 351        | 11000      | 0.10013961 |  8         | 0          | \n",
       "| 102        | 1558       |  892       | 362        | 10733      | 0.09862110 | 11         | 0          | \n",
       "| 103        | 1575       |  990       | 486        | 12912      | 0.09834929 |  7         | 0          | \n",
       "| 111        | 1520       |  866       | 429        | 12926      | 0.09808018 | 13         | 0          | \n",
       "| 120        | 1805       | 1095       | 551        | 13990      | 0.09727921 | 13         | 0          | \n",
       "| 129        | 1800       | 1204       | 646        | 14926      | 0.09741062 | 11         | 0          | \n",
       "\n",
       "\n"
      ],
      "text/plain": [
       "   DriversKilled drivers front rear kms   PetrolPrice VanKilled law\n",
       "1  107           1687     867  269   9059 0.10297181  12        0  \n",
       "2   97           1508     825  265   7685 0.10236300   6        0  \n",
       "3  102           1507     806  319   9963 0.10206249  12        0  \n",
       "4   87           1385     814  407  10955 0.10087330   8        0  \n",
       "5  119           1632     991  454  11823 0.10101967  10        0  \n",
       "6  106           1511     945  427  12391 0.10058119  13        0  \n",
       "7  110           1559    1004  522  13460 0.10377398  11        0  \n",
       "8  106           1630    1091  536  14055 0.10407640   6        0  \n",
       "9  107           1579     958  405  12106 0.10377398  10        0  \n",
       "10 134           1653     850  437  11372 0.10302640  16        0  \n",
       "11 147           2152    1109  434   9834 0.10273011  13        0  \n",
       "12 180           2148    1113  437   9267 0.10199719  14        0  \n",
       "13 125           1752     925  316   9130 0.10127456  14        0  \n",
       "14 134           1765     903  311   8933 0.10070398   6        0  \n",
       "15 110           1717    1006  351  11000 0.10013961   8        0  \n",
       "16 102           1558     892  362  10733 0.09862110  11        0  \n",
       "17 103           1575     990  486  12912 0.09834929   7        0  \n",
       "18 111           1520     866  429  12926 0.09808018  13        0  \n",
       "19 120           1805    1095  551  13990 0.09727921  13        0  \n",
       "20 129           1800    1204  646  14926 0.09741062  11        0  "
      ]
     },
     "metadata": {},
     "output_type": "display_data"
    }
   ],
   "source": [
    "# check the top few and bottom few rows\n",
    "head(sb_data)  # show first 6 rows\n",
    "tail(sb_data)  # show the last 6 rows\n",
    "\n",
    "head(sb_data, n=20)  # show th first n rows"
   ]
  },
  {
   "cell_type": "code",
   "execution_count": 58,
   "metadata": {},
   "outputs": [
    {
     "data": {
      "text/html": [
       "<table>\n",
       "<thead><tr><th></th><th scope=col>DriversKilled</th><th scope=col>drivers</th><th scope=col>front</th></tr></thead>\n",
       "<tbody>\n",
       "\t<tr><th scope=row>45</th><td>117 </td><td>1778</td><td> 939</td></tr>\n",
       "\t<tr><th scope=row>46</th><td>170 </td><td>1976</td><td>1074</td></tr>\n",
       "\t<tr><th scope=row>47</th><td>168 </td><td>2397</td><td>1089</td></tr>\n",
       "\t<tr><th scope=row>48</th><td>198 </td><td>2654</td><td>1208</td></tr>\n",
       "\t<tr><th scope=row>49</th><td>144 </td><td>2097</td><td> 903</td></tr>\n",
       "\t<tr><th scope=row>50</th><td>146 </td><td>1963</td><td> 916</td></tr>\n",
       "</tbody>\n",
       "</table>\n"
      ],
      "text/latex": [
       "\\begin{tabular}{r|lll}\n",
       "  & DriversKilled & drivers & front\\\\\n",
       "\\hline\n",
       "\t45 & 117  & 1778 &  939\\\\\n",
       "\t46 & 170  & 1976 & 1074\\\\\n",
       "\t47 & 168  & 2397 & 1089\\\\\n",
       "\t48 & 198  & 2654 & 1208\\\\\n",
       "\t49 & 144  & 2097 &  903\\\\\n",
       "\t50 & 146  & 1963 &  916\\\\\n",
       "\\end{tabular}\n"
      ],
      "text/markdown": [
       "\n",
       "| <!--/--> | DriversKilled | drivers | front | \n",
       "|---|---|---|---|---|---|\n",
       "| 45 | 117  | 1778 |  939 | \n",
       "| 46 | 170  | 1976 | 1074 | \n",
       "| 47 | 168  | 2397 | 1089 | \n",
       "| 48 | 198  | 2654 | 1208 | \n",
       "| 49 | 144  | 2097 |  903 | \n",
       "| 50 | 146  | 1963 |  916 | \n",
       "\n",
       "\n"
      ],
      "text/plain": [
       "   DriversKilled drivers front\n",
       "45 117           1778     939 \n",
       "46 170           1976    1074 \n",
       "47 168           2397    1089 \n",
       "48 198           2654    1208 \n",
       "49 144           2097     903 \n",
       "50 146           1963     916 "
      ]
     },
     "metadata": {},
     "output_type": "display_data"
    }
   ],
   "source": [
    "# subsetting/slicing data\n",
    "sb_data[45:50,1:3]  # sb_data[row:row, column:column]"
   ]
  },
  {
   "cell_type": "code",
   "execution_count": 62,
   "metadata": {},
   "outputs": [
    {
     "data": {
      "text/plain": [
       "\n",
       " Descriptive statistics by group \n",
       "group: 0\n",
       "              vars   n     mean      sd  median  trimmed     mad     min\n",
       "DriversKilled    1 169   125.87   24.26   121.0   124.10   22.24   79.00\n",
       "drivers          2 169  1717.75  266.89  1653.0  1695.37  257.97 1309.00\n",
       "front            3 169   873.46  151.54   860.0   869.22  155.67  567.00\n",
       "rear             4 169   400.32   84.88   401.0   397.28   81.54  224.00\n",
       "kms              5 169 14463.30 2663.17 14455.0 14475.13 3128.29 7685.00\n",
       "PetrolPrice      6 169     0.10    0.01     0.1     0.10    0.01    0.08\n",
       "VanKilled        7 169     9.59    3.50    10.0     9.58    4.45    2.00\n",
       "law              8 169     0.00    0.00     0.0     0.00    0.00    0.00\n",
       "                   max    range  skew kurtosis     se\n",
       "DriversKilled   198.00   119.00  0.66    -0.13   1.87\n",
       "drivers        2654.00  1345.00  0.78     0.05  20.53\n",
       "front          1299.00   732.00  0.30    -0.49  11.66\n",
       "rear            646.00   422.00  0.38     0.15   6.53\n",
       "kms           21040.00 13355.00 -0.02    -0.65 204.86\n",
       "PetrolPrice       0.13     0.05  0.11    -0.87   0.00\n",
       "VanKilled        17.00    15.00  0.02    -0.95   0.27\n",
       "law               0.00     0.00   NaN      NaN   0.00\n",
       "------------------------------------------------------------ \n",
       "group: 1\n",
       "              vars  n     mean      sd   median  trimmed     mad      min\n",
       "DriversKilled    1 23   100.26   22.23    92.00    98.74   14.83    60.00\n",
       "drivers          2 23  1321.70  199.72  1282.00  1303.47  212.01  1057.00\n",
       "front            3 23   570.96   81.29   585.00   570.53   87.47   426.00\n",
       "rear             4 23   407.74   69.92   408.00   408.74   93.40   296.00\n",
       "kms              5 23 18890.22 1657.61 19162.00 18927.79 1501.87 15511.00\n",
       "PetrolPrice      6 23     0.12    0.00     0.12     0.12    0.00     0.11\n",
       "VanKilled        7 23     5.17    1.83     5.00     5.16    2.97     2.00\n",
       "law              8 23     1.00    0.00     1.00     1.00    0.00     1.00\n",
       "                   max   range  skew kurtosis     se\n",
       "DriversKilled   154.00   94.00  0.60    -0.39   4.63\n",
       "drivers        1763.00  706.00  0.70    -0.57  41.65\n",
       "front           721.00  295.00 -0.01    -0.94  16.95\n",
       "rear            521.00  225.00 -0.08    -1.44  14.58\n",
       "kms           21626.00 6115.00 -0.25    -0.83 345.64\n",
       "PetrolPrice       0.12    0.01  0.09    -1.31   0.00\n",
       "VanKilled         8.00    6.00 -0.07    -1.42   0.38\n",
       "law               1.00    0.00   NaN      NaN   0.00"
      ]
     },
     "metadata": {},
     "output_type": "display_data"
    }
   ],
   "source": [
    "# Use a groupby analysis from the psych package\n",
    "# This code groups all the variables by the variable law (0: before, 1: after)\n",
    "describeBy(sb_data, group=sb_data$law)"
   ]
  },
  {
   "cell_type": "code",
   "execution_count": 63,
   "metadata": {},
   "outputs": [
    {
     "data": {
      "image/png": "[encoded data removed]",
      "text/plain": [
       "Plot with title “Road Fatalities 1969 - 84”"
      ]
     },
     "metadata": {},
     "output_type": "display_data"
    }
   ],
   "source": [
    "# Use histogram plots to visualize the data\n",
    "hist(sb_data$DriversKilled, main=\"Road Fatalities 1969 - 84\",\n",
    "     xlab=\"Drivers Killed\", ylab=\"Density\", freq=FALSE, col=\"light blue\")"
   ]
  },
  {
   "cell_type": "code",
   "execution_count": 64,
   "metadata": {},
   "outputs": [],
   "source": [
    "# we want to know how different the 2 groups are (before and after)\n",
    "# law was implemented\n",
    "# use a student's t-test (difference between 2 means)\n",
    "# need to consider: whether the variances of both samples are the same\n",
    "\n",
    "# subset the data into 2 groups first\n",
    "drivers_killed_b4 = sb_data[sb_data$law == 0, 'DriversKilled']\n",
    "drivers_killed_after = sb_data[sb_data$law == 1, 'DriversKilled']"
   ]
  },
  {
   "cell_type": "code",
   "execution_count": 65,
   "metadata": {},
   "outputs": [
    {
     "data": {
      "text/plain": [
       "\n",
       "\tF test to compare two variances\n",
       "\n",
       "data:  drivers_killed_b4 and drivers_killed_after\n",
       "F = 1.1912, num df = 168, denom df = 22, p-value = 0.6535\n",
       "alternative hypothesis: true ratio of variances is not equal to 1\n",
       "95 percent confidence interval:\n",
       " 0.5794668 2.0916430\n",
       "sample estimates:\n",
       "ratio of variances \n",
       "          1.191211 \n"
      ]
     },
     "metadata": {},
     "output_type": "display_data"
    },
    {
     "data": {
      "text/plain": [
       "\n",
       "\tTwo Sample t-test\n",
       "\n",
       "data:  drivers_killed_b4 and drivers_killed_after\n",
       "t = 4.7942, df = 190, p-value = 3.288e-06\n",
       "alternative hypothesis: true difference in means is not equal to 0\n",
       "95 percent confidence interval:\n",
       " 15.07239 36.14552\n",
       "sample estimates:\n",
       "mean of x mean of y \n",
       " 125.8698  100.2609 \n"
      ]
     },
     "metadata": {},
     "output_type": "display_data"
    }
   ],
   "source": [
    "# test if sample variances are homogenous (similar)\n",
    "var.test(drivers_killed_b4, drivers_killed_after)  # p-value greater than 0.05 indicates homogeneity\n",
    "t.test(drivers_killed_b4, drivers_killed_after, var.equal=TRUE, paired=FALSE)\n",
    "# p-value < 0.01, reject null, imply significant difference in means\n",
    "# This implies that there is significant drop in driver deaths after the law was passed."
   ]
  },
  {
   "cell_type": "code",
   "execution_count": 67,
   "metadata": {},
   "outputs": [
    {
     "data": {
      "text/plain": [
       "\n",
       "\tWelch Two Sample t-test\n",
       "\n",
       "data:  drivers_killed_b4 and drivers_killed_after\n",
       "t = 5.1253, df = 29.609, p-value = 1.693e-05\n",
       "alternative hypothesis: true difference in means is not equal to 0\n",
       "95 percent confidence interval:\n",
       " 15.39892 35.81899\n",
       "sample estimates:\n",
       "mean of x mean of y \n",
       " 125.8698  100.2609 \n"
      ]
     },
     "metadata": {},
     "output_type": "display_data"
    }
   ],
   "source": [
    "# sanity check: what is the variances are not the same - use the Welch-Satterthwaite test\n",
    "t.test(drivers_killed_b4, drivers_killed_after, var.equal=FALSE, paired=FALSE)\n",
    "# We get the same implication from the results"
   ]
  },
  {
   "cell_type": "code",
   "execution_count": 68,
   "metadata": {},
   "outputs": [
    {
     "data": {
      "text/html": [
       "<table>\n",
       "<thead><tr><th scope=col>DriversKilled</th><th scope=col>drivers</th><th scope=col>front</th><th scope=col>rear</th><th scope=col>kms</th><th scope=col>PetrolPrice</th><th scope=col>VanKilled</th><th scope=col>law</th></tr></thead>\n",
       "<tbody>\n",
       "\t<tr><td>107      </td><td>1687     </td><td>867      </td><td>269      </td><td> 9059    </td><td>0.1029718</td><td>12       </td><td>0        </td></tr>\n",
       "\t<tr><td> 97      </td><td>1508     </td><td>825      </td><td>265      </td><td> 7685    </td><td>0.1023630</td><td> 6       </td><td>0        </td></tr>\n",
       "\t<tr><td>102      </td><td>1507     </td><td>806      </td><td>319      </td><td> 9963    </td><td>0.1020625</td><td>12       </td><td>0        </td></tr>\n",
       "\t<tr><td> 87      </td><td>1385     </td><td>814      </td><td>407      </td><td>10955    </td><td>0.1008733</td><td> 8       </td><td>0        </td></tr>\n",
       "\t<tr><td>119      </td><td>1632     </td><td>991      </td><td>454      </td><td>11823    </td><td>0.1010197</td><td>10       </td><td>0        </td></tr>\n",
       "\t<tr><td>106      </td><td>1511     </td><td>945      </td><td>427      </td><td>12391    </td><td>0.1005812</td><td>13       </td><td>0        </td></tr>\n",
       "</tbody>\n",
       "</table>\n"
      ],
      "text/latex": [
       "\\begin{tabular}{r|llllllll}\n",
       " DriversKilled & drivers & front & rear & kms & PetrolPrice & VanKilled & law\\\\\n",
       "\\hline\n",
       "\t 107       & 1687      & 867       & 269       &  9059     & 0.1029718 & 12        & 0        \\\\\n",
       "\t  97       & 1508      & 825       & 265       &  7685     & 0.1023630 &  6        & 0        \\\\\n",
       "\t 102       & 1507      & 806       & 319       &  9963     & 0.1020625 & 12        & 0        \\\\\n",
       "\t  87       & 1385      & 814       & 407       & 10955     & 0.1008733 &  8        & 0        \\\\\n",
       "\t 119       & 1632      & 991       & 454       & 11823     & 0.1010197 & 10        & 0        \\\\\n",
       "\t 106       & 1511      & 945       & 427       & 12391     & 0.1005812 & 13        & 0        \\\\\n",
       "\\end{tabular}\n"
      ],
      "text/markdown": [
       "\n",
       "DriversKilled | drivers | front | rear | kms | PetrolPrice | VanKilled | law | \n",
       "|---|---|---|---|---|---|\n",
       "| 107       | 1687      | 867       | 269       |  9059     | 0.1029718 | 12        | 0         | \n",
       "|  97       | 1508      | 825       | 265       |  7685     | 0.1023630 |  6        | 0         | \n",
       "| 102       | 1507      | 806       | 319       |  9963     | 0.1020625 | 12        | 0         | \n",
       "|  87       | 1385      | 814       | 407       | 10955     | 0.1008733 |  8        | 0         | \n",
       "| 119       | 1632      | 991       | 454       | 11823     | 0.1010197 | 10        | 0         | \n",
       "| 106       | 1511      | 945       | 427       | 12391     | 0.1005812 | 13        | 0         | \n",
       "\n",
       "\n"
      ],
      "text/plain": [
       "  DriversKilled drivers front rear kms   PetrolPrice VanKilled law\n",
       "1 107           1687    867   269   9059 0.1029718   12        0  \n",
       "2  97           1508    825   265   7685 0.1023630    6        0  \n",
       "3 102           1507    806   319   9963 0.1020625   12        0  \n",
       "4  87           1385    814   407  10955 0.1008733    8        0  \n",
       "5 119           1632    991   454  11823 0.1010197   10        0  \n",
       "6 106           1511    945   427  12391 0.1005812   13        0  "
      ]
     },
     "metadata": {},
     "output_type": "display_data"
    },
    {
     "data": {
      "image/png": "[encoded data removed]",
      "text/plain": [
       "Plot with title “Petrol Price and Drivers Killed”"
      ]
     },
     "metadata": {},
     "output_type": "display_data"
    }
   ],
   "source": [
    "# Use scatterplots to check relationship\n",
    "# Scatterplots\n",
    "head(sb_data)\n",
    "plot(sb_data$PetrolPrice, sb_data$DriversKilled, main=\"Petrol Price and Drivers Killed\",\n",
    "     xlab=\"Petrol Price\", ylab=\"Drivers Killed\", col='blue')\n",
    "\n",
    "# Seems that there is some kind of weak relationship (data is very dispersed) \n",
    "# that the cheaper the petrol price, the more drivers killed\n",
    "# Makes sense since that people tend to drive more when petrol prices are cheap\n",
    "# But since driving is quite inelastic, the relationship is not that strong"
   ]
  },
  {
   "cell_type": "code",
   "execution_count": 77,
   "metadata": {},
   "outputs": [
    {
     "data": {
      "image/png": "[encoded data removed]",
      "text/plain": [
       "plot without title"
      ]
     },
     "metadata": {},
     "output_type": "display_data"
    }
   ],
   "source": [
    "# Using the scatterplot function from package CAR\n",
    "scatterplot(PetrolPrice ~ DriversKilled, data=sb_data)"
   ]
  },
  {
   "cell_type": "code",
   "execution_count": 89,
   "metadata": {},
   "outputs": [],
   "source": [
    "# linear regression\n",
    "model = lm(DriversKilled ~ front + rear + kms + PetrolPrice + law, data=sb_data)"
   ]
  },
  {
   "cell_type": "code",
   "execution_count": 90,
   "metadata": {},
   "outputs": [
    {
     "data": {
      "text/plain": [
       "\n",
       "Call:\n",
       "lm(formula = DriversKilled ~ front + rear + kms + PetrolPrice + \n",
       "    law, data = sb_data)\n",
       "\n",
       "Residuals:\n",
       "    Min      1Q  Median      3Q     Max \n",
       "-41.667 -11.953  -0.991  13.451  38.857 \n",
       "\n",
       "Coefficients:\n",
       "              Estimate Std. Error t value Pr(>|t|)    \n",
       "(Intercept)  9.091e+00  2.133e+01   0.426 0.670490    \n",
       "front        1.662e-01  1.955e-02   8.501    6e-15 ***\n",
       "rear        -1.157e-01  3.451e-02  -3.353 0.000967 ***\n",
       "kms          5.083e-04  7.045e-04   0.722 0.471455    \n",
       "PetrolPrice  1.039e+02  1.286e+02   0.808 0.420396    \n",
       "law          2.176e+01  5.785e+00   3.762 0.000226 ***\n",
       "---\n",
       "Signif. codes:  0 ‘***’ 0.001 ‘**’ 0.01 ‘*’ 0.05 ‘.’ 0.1 ‘ ’ 1\n",
       "\n",
       "Residual standard error: 17.32 on 186 degrees of freedom\n",
       "Multiple R-squared:  0.5467,\tAdjusted R-squared:  0.5345 \n",
       "F-statistic: 44.86 on 5 and 186 DF,  p-value: < 2.2e-16\n"
      ]
     },
     "metadata": {},
     "output_type": "display_data"
    }
   ],
   "source": [
    "summary(model)\n",
    "# What does the results show? What doesn't make sense?\n",
    "# Scatterplot shows that petrolprice has some relationship,\n",
    "# however the linear regression, after accounting for other explanatory variables\n",
    "# says that petrolprice does not have a statistically significant relationship"
   ]
  },
  {
   "cell_type": "code",
   "execution_count": 55,
   "metadata": {},
   "outputs": [],
   "source": [
    "# Try your own exercise!\n",
    "titanic = data.frame(Titanic)"
   ]
  }
 ],
 "metadata": {
  "kernelspec": {
   "display_name": "R",
   "language": "R",
   "name": "ir"
  },
  "language_info": {
   "codemirror_mode": "r",
   "file_extension": ".r",
   "mimetype": "text/x-r-source",
   "name": "R",
   "pygments_lexer": "r",
   "version": "3.4.4"
  }
 },
 "nbformat": 4,
 "nbformat_minor": 2
}
